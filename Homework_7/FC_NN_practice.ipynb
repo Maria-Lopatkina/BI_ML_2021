{
  "cells": [
    {
      "cell_type": "markdown",
      "metadata": {
        "id": "view-in-github"
      },
      "source": [
        "<a href=\"https://colab.research.google.com/github/danon6868/BI-ml-course/blob/main/lecture_8_neural_networks_part2/homework/FC_NN_practice.ipynb\" target=\"_parent\"><img src=\"https://colab.research.google.com/assets/colab-badge.svg\" alt=\"Open In Colab\"/></a>"
      ]
    },
    {
      "cell_type": "markdown",
      "source": [
        "Работу выполнила самостоятельно (Лопаткина М.)."
      ],
      "metadata": {
        "id": "I8lw-PiFyQpA"
      }
    },
    {
      "cell_type": "markdown",
      "metadata": {
        "id": "-pSGPQS8Btmc"
      },
      "source": [
        "Всем привет! Сегодня вы впервые попробуете написать свою собственную нейронную сеть и попробовать ее обучить. Мы будем работать с картинками, но пока что не совсем тем способом, которым лучше всего это делать, но должно получиться неплохо.\n",
        "\n",
        "Будем работать с [датасетом](https://github.com/rois-codh/kmnist) `Kuzushiji-MNIST` (`KMNIST`). Это рукописные буквы, изображения имеют размер (28, 28, 1) и разделены на 10 классов, по ссылке можно прочитать подробнее."
      ]
    },
    {
      "cell_type": "code",
      "execution_count": 31,
      "metadata": {
        "id": "75HVAP_RFU7r"
      },
      "outputs": [],
      "source": [
        "import numpy as np\n",
        "import pandas as pd\n",
        "import torch\n",
        "import matplotlib.pyplot as plt\n",
        "from IPython.display import clear_output"
      ]
    },
    {
      "cell_type": "markdown",
      "metadata": {
        "id": "46iQ8ixtEruP"
      },
      "source": [
        "## Загрузка данных"
      ]
    },
    {
      "cell_type": "markdown",
      "metadata": {
        "id": "R6h1jVreJlV-"
      },
      "source": [
        "Сейчас мы будем использовать встроенные данные, но в реальности приходится писать свой класс для датасета (Dataset), у которого реализовывать несколько обязательных методов (напр, `__getitem__`), но это обсудим уже потом."
      ]
    },
    {
      "cell_type": "code",
      "execution_count": 122,
      "metadata": {
        "id": "s9L9Z02o_1bK"
      },
      "outputs": [],
      "source": [
        "import torchvision\n",
        "from torchvision.datasets import KMNIST\n",
        "\n",
        "\n",
        "# Превращает картинки в тензоры\n",
        "transform = torchvision.transforms.Compose(\n",
        "    [torchvision.transforms.ToTensor()])\n",
        "\n",
        "# Загрузим данные (в переменных лежат объекты типа `Dataset`)\n",
        "# В аргумент `transform` мы передаем необходимые трансформации (ToTensor)\n",
        "trainset = KMNIST(root=\"./KMNIST\", train=True, download=True, transform=transform)\n",
        "testset = KMNIST(root=\"./KMNIST\", train=False, download=True, transform=transform)\n",
        "\n",
        "clear_output()"
      ]
    },
    {
      "cell_type": "markdown",
      "metadata": {
        "id": "V83E2vDrO9CC"
      },
      "source": [
        "Определим даталоадеры, они нужны, чтобы реализовывать стохастический градиентный спуск (то есть мы не хотим считывать в оперативную память все картинки сразу, а делать это батчами)."
      ]
    },
    {
      "cell_type": "code",
      "execution_count": 123,
      "metadata": {
        "id": "oqC8XO8pO8Px"
      },
      "outputs": [],
      "source": [
        "from torch.utils.data import DataLoader\n",
        "\n",
        "\n",
        "# Можно оставить таким\n",
        "batch_size = 256\n",
        "\n",
        "trainloader = DataLoader(trainset, batch_size=batch_size, shuffle=True, num_workers=2)\n",
        "testloader = DataLoader(testset, batch_size=batch_size, shuffle=False, num_workers=2)"
      ]
    },
    {
      "cell_type": "markdown",
      "metadata": {
        "id": "-Ntp5sLoPyGx"
      },
      "source": [
        "Подумайте, как может влиять на скорость обучения параметр `batch_size`, почему вы так считаете?\n",
        "\n",
        "**Ответ:** Вероятно, опытным путем можно добиться оптимального значения параметра *batch size*. В определенный момент увеличение значения *batch size* не приводит к увеличению скорости обучения. "
      ]
    },
    {
      "cell_type": "code",
      "source": [
        "trainset"
      ],
      "metadata": {
        "colab": {
          "base_uri": "https://localhost:8080/"
        },
        "id": "j6UgQz3pBn21",
        "outputId": "8c7786e8-7459-4732-89ab-afb6d6dc9b62"
      },
      "execution_count": 124,
      "outputs": [
        {
          "output_type": "execute_result",
          "data": {
            "text/plain": [
              "Dataset KMNIST\n",
              "    Number of datapoints: 60000\n",
              "    Root location: ./KMNIST\n",
              "    Split: Train\n",
              "    StandardTransform\n",
              "Transform: Compose(\n",
              "               ToTensor()\n",
              "           )"
            ]
          },
          "metadata": {},
          "execution_count": 124
        }
      ]
    },
    {
      "cell_type": "markdown",
      "metadata": {
        "id": "t2vmM4KaHvrs"
      },
      "source": [
        "Посмотрим на какую-нибудь картинку:"
      ]
    },
    {
      "cell_type": "code",
      "execution_count": 125,
      "metadata": {
        "colab": {
          "base_uri": "https://localhost:8080/",
          "height": 321
        },
        "id": "N-b-kFCYAoOP",
        "outputId": "02a10628-9787-412a-964e-02df3f3a4d32"
      },
      "outputs": [
        {
          "output_type": "display_data",
          "data": {
            "text/plain": [
              "<Figure size 360x360 with 1 Axes>"
            ],
            "image/png": "[encoded data removed]"
          },
          "metadata": {
            "needs_background": "light"
          }
        }
      ],
      "source": [
        "plt.rcParams[\"figure.figsize\"] = 5, 5\n",
        "plt.imshow(trainset[1000][0].view(28, 28).numpy(), cmap=\"gray\")\n",
        "plt.axis(\"off\")\n",
        "plt.title(f\"Class is {trainset[1000][1]}\", fontsize=16);"
      ]
    },
    {
      "cell_type": "markdown",
      "metadata": {
        "id": "8_MSY231Hzz9"
      },
      "source": [
        "### Задание 1. Смотрим на картинки\n",
        "\n",
        "**2** балла\n",
        "\n",
        "Нарисуйте на одном графике изображения всех 10 классов:"
      ]
    },
    {
      "cell_type": "code",
      "source": [
        "labels = []\n",
        "for i in range(len(trainset)):\n",
        "    labels.append(trainset[i][1])"
      ],
      "metadata": {
        "id": "FonRZN-fGDMe"
      },
      "execution_count": 126,
      "outputs": []
    },
    {
      "cell_type": "code",
      "source": [
        "plt.rcParams[\"figure.figsize\"] = 24, 13\n",
        "k = 0\n",
        "for i in range(len(labels)):\n",
        "    if trainset[i][1] == k:\n",
        "        plt.subplot(1, 10, k+1)\n",
        "        pixels = trainset[i][0].view(28, 28).numpy()\n",
        "        plt.imshow(pixels, cmap='gray')\n",
        "        plt.title(f\"Label is {trainset[i][1]}\", fontsize=16)\n",
        "        plt.axis(\"off\")\n",
        "        k += 1"
      ],
      "metadata": {
        "colab": {
          "base_uri": "https://localhost:8080/",
          "height": 162
        },
        "id": "9bEUQ0vxGF4q",
        "outputId": "0f023243-4ddc-46f6-cbcc-075fe2aab66b"
      },
      "execution_count": 127,
      "outputs": [
        {
          "output_type": "display_data",
          "data": {
            "text/plain": [
              "<Figure size 1728x936 with 10 Axes>"
            ],
            "image/png": "[encoded data removed]"
          },
          "metadata": {
            "needs_background": "light"
          }
        }
      ]
    },
    {
      "cell_type": "markdown",
      "metadata": {
        "id": "dLCfnFW-JtGx"
      },
      "source": [
        "### Задание 2. Строим свой первый MLP\n",
        "\n",
        "**4** балла\n",
        "\n",
        "MLP (multilayer perceptron) или нейронная сеть из полносвязных (линейных) слоев, это мы уже знаем.\n",
        "\n",
        "Опишите структуру сети: 3 полносвязных слоя + функции активации на ваш выбор. **Подумайте** про активацию после последнего слоя!\n",
        "\n",
        "Сеть на выходе 1 слоя должна иметь 256 признаков, на выходе из 2 128 признаков, на выходе из последнего столько, сколько у вас классов.\n",
        " \n",
        "https://pytorch.org/docs/stable/nn.html?highlight=activation#non-linear-activations-weighted-sum-nonlinearity"
      ]
    },
    {
      "cell_type": "code",
      "execution_count": 128,
      "metadata": {
        "id": "dhYBvQIXJdSz"
      },
      "outputs": [],
      "source": [
        "import torch.nn as nn\n",
        "import torch.nn.functional as F\n",
        "\n",
        "class FCNet(nn.Module):\n",
        "    def __init__(self, activation):\n",
        "        super().__init__() #  это надо помнить!\n",
        "\n",
        "        self.fc1 = nn.Linear(in_features=28*28, out_features=256)\n",
        "        self.fc2 = nn.Linear(in_features=256, out_features=128)\n",
        "        self.fc3 = nn.Linear(in_features=128, out_features=10)\n",
        "        self.activation = activation         \n",
        "\n",
        "    def forward(self, x):\n",
        "        x = x.view(-1, 28*28)\n",
        "        x = self.fc1(x)\n",
        "        x = self.activation(x)\n",
        "        x = self.fc2(x)\n",
        "        x = self.activation(x)\n",
        "        logits = self.fc3(x)\n",
        "        probs = F.softmax(logits, dim = 1)\n",
        "\n",
        "        return logits, probs"
      ]
    },
    {
      "cell_type": "markdown",
      "metadata": {
        "id": "uI0R77EQNKef"
      },
      "source": [
        "Сколько обучаемых параметров у вашей модели (весов и смещений)?\n",
        "\n",
        "**Ответ:** 235146 (234752 - веса, 394 - смещения (количество нейронов))"
      ]
    },
    {
      "cell_type": "markdown",
      "source": [
        "Тут я немного запуталась: на лекции Лаврентий говорил, что в функцию потерь встроена softmax и поэтому ее не нужно прописывать. Почему мы тогда это делаем? Или, если нам нужна другая функция, мы должны отдельно прописать все функции активации и отдельно softmax для последнего слоя нейронов?"
      ],
      "metadata": {
        "id": "pgF6M0JxP4QH"
      }
    },
    {
      "cell_type": "markdown",
      "metadata": {
        "id": "iwGllji2M4lp"
      },
      "source": [
        "### Задание 3. Напишите код для обучения модели\n",
        "\n",
        "**5** баллов\n",
        "\n",
        "Можно (и нужно) подглядывать в код семинара по пайторчу. Вам нужно создать модель, определить функцию потерь и оптимизатор (начнем с `SGD`). Дальше нужно обучать модель, при помощи тренировочного `Dataloader'a` и считать лосс на тренировочном и тестовом `Dataloader'ах`."
      ]
    },
    {
      "cell_type": "markdown",
      "metadata": {
        "id": "Grv9xcybRfCX"
      },
      "source": [
        "Напишем функцию для рассчета `accuracy`:"
      ]
    },
    {
      "cell_type": "code",
      "execution_count": 129,
      "metadata": {
        "id": "9D2QPFe5JdVc"
      },
      "outputs": [],
      "source": [
        "def get_accuracy(model, dataloader):\n",
        "    \"\"\"\n",
        "    model - обученная нейронная сеть\n",
        "    dataloader - даталоадер, на котором вы хотите посчитать accuracy\n",
        "    \"\"\"\n",
        "    correct = 0\n",
        "    total = 0\n",
        "    with torch.no_grad(): # Тензоры внутри этого блока будут иметь requires_grad=False\n",
        "        for images, labels in dataloader:\n",
        "            outputs, _ = model(images)\n",
        "            _, predicted = torch.max(outputs.data, 1)\n",
        "            total += labels.size(0)\n",
        "            correct += (predicted == labels).sum().item()\n",
        "    accuracy = correct / total\n",
        "    \n",
        "    return accuracy"
      ]
    },
    {
      "cell_type": "markdown",
      "metadata": {
        "id": "D3EmoWJyTBkE"
      },
      "source": [
        "#### Основной цикл обучения\n",
        "\n",
        "Этот код можно (и зачастую нужно) выносить в отдельную функцию, но пока что можете это не делать, все по желанию)"
      ]
    },
    {
      "cell_type": "code",
      "execution_count": 130,
      "metadata": {
        "id": "uIZKSOdgUi3e"
      },
      "outputs": [],
      "source": [
        "# Создадим объект модели\n",
        "fc_net = FCNet(F.relu)\n",
        "# Определим функцию потерь\n",
        "loss_function = nn.CrossEntropyLoss()\n",
        "# Создадим оптимизатор для нашей сети\n",
        "lr = 0.001 # скорость обучения\n",
        "optimizer = torch.optim.SGD(fc_net.parameters(), lr=lr)"
      ]
    },
    {
      "cell_type": "markdown",
      "metadata": {
        "id": "uKYzXFqoX_fd"
      },
      "source": [
        "Напишите цикл обучения. Для начала хватит 10 эпох. Какое значение `accuracy` на тестовой выборке удалось получить?"
      ]
    },
    {
      "cell_type": "code",
      "source": [
        "def learning_cycle(n_epochs, trainloader):\n",
        "    loss_history = []\n",
        "    for epoch in range(n_epochs):\n",
        "        epoch_loss = 0\n",
        "        for images, labels in trainloader:\n",
        "            optimizer.zero_grad()\n",
        "            outputs, _ = fc_net(images)\n",
        "            loss = loss_function(outputs, labels)\n",
        "            loss.backward()\n",
        "            optimizer.step()\n",
        "            epoch_loss += loss.item()\n",
        "        loss_history.append(epoch_loss/len(trainloader))\n",
        "        print(f\"Epoch={epoch+1} loss={loss_history[epoch]:.4f}\")        "
      ],
      "metadata": {
        "id": "25T3ICoZxZRD"
      },
      "execution_count": 131,
      "outputs": []
    },
    {
      "cell_type": "code",
      "source": [
        "%%time\n",
        "learning_cycle(10, trainloader)"
      ],
      "metadata": {
        "colab": {
          "base_uri": "https://localhost:8080/"
        },
        "id": "EBFhXnUAzB4T",
        "outputId": "21637912-eb55-48f2-e57e-3128c0a3f4e8"
      },
      "execution_count": 132,
      "outputs": [
        {
          "output_type": "stream",
          "name": "stdout",
          "text": [
            "Epoch=1 loss=2.3064\n",
            "Epoch=2 loss=2.2987\n",
            "Epoch=3 loss=2.2912\n",
            "Epoch=4 loss=2.2835\n",
            "Epoch=5 loss=2.2753\n",
            "Epoch=6 loss=2.2664\n",
            "Epoch=7 loss=2.2567\n",
            "Epoch=8 loss=2.2457\n",
            "Epoch=9 loss=2.2334\n",
            "Epoch=10 loss=2.2193\n",
            "CPU times: user 25.6 s, sys: 2.49 s, total: 28.1 s\n",
            "Wall time: 1min 15s\n"
          ]
        }
      ]
    },
    {
      "cell_type": "code",
      "execution_count": 133,
      "metadata": {
        "id": "2cB5LRbrS3BN",
        "colab": {
          "base_uri": "https://localhost:8080/"
        },
        "outputId": "d076307c-251a-4521-9335-65765c50f34b"
      },
      "outputs": [
        {
          "output_type": "execute_result",
          "data": {
            "text/plain": [
              "0.2812"
            ]
          },
          "metadata": {},
          "execution_count": 133
        }
      ],
      "source": [
        "get_accuracy(fc_net, testloader)"
      ]
    },
    {
      "cell_type": "markdown",
      "metadata": {
        "id": "4HTJzBM8Yk1R"
      },
      "source": [
        "### Задание 4. Изучение влияния нормализации\n",
        "\n",
        "**3** балла\n",
        "\n",
        "Вы могли заметить, что мы забыли провести нормализацию наших данных, а для нейронных сетей это может быть очень критично.\n",
        "\n",
        "Нормализуйте данные.\n",
        "\n",
        "* Подсчитайте среднее значение и стандартное отклонение интенсивности пикселей для всех тренировочных данных\n",
        "* Нормализуйте данные с использованием этих параметров (используйте трансформацию `Normalize`)\n",
        "\n",
        "\n",
        "Оцените влияние нормировки данных."
      ]
    },
    {
      "cell_type": "code",
      "source": [
        "all_pic = []\n",
        "for i in range(len(trainset)):\n",
        "    all_pic.extend(trainset[i][0].view(-1, 28*28).tolist()[0])"
      ],
      "metadata": {
        "id": "N-PjR3yVjZiS"
      },
      "execution_count": 134,
      "outputs": []
    },
    {
      "cell_type": "code",
      "execution_count": 135,
      "metadata": {
        "id": "FHlDaYWGR6YA",
        "colab": {
          "base_uri": "https://localhost:8080/"
        },
        "outputId": "85e2b691-082c-4343-a6fb-f6193eb6d973"
      },
      "outputs": [
        {
          "output_type": "stream",
          "name": "stdout",
          "text": [
            "0.19176214933278488 0.3483428325349038\n"
          ]
        }
      ],
      "source": [
        "mean = np.mean(all_pic)\n",
        "std = np.std(all_pic)\n",
        "print(mean, std)\n"
      ]
    },
    {
      "cell_type": "code",
      "source": [
        "transform_with_norm = torchvision.transforms.Compose([\n",
        "                torchvision.transforms.ToTensor(),\n",
        "                torchvision.transforms.Normalize(mean, std)\n",
        "            ])\n",
        "\n",
        "trainset.transform = transform_with_norm \n",
        "testset.transform = transform_with_norm"
      ],
      "metadata": {
        "id": "4aGLiRhQjRi-"
      },
      "execution_count": 136,
      "outputs": []
    },
    {
      "cell_type": "code",
      "execution_count": 137,
      "metadata": {
        "id": "Qj93J3X_R6aa"
      },
      "outputs": [],
      "source": [
        "fc_net = FCNet(F.relu)\n",
        "loss_function = nn.CrossEntropyLoss()\n",
        "lr = 0.001\n",
        "optimizer = torch.optim.SGD(fc_net.parameters(), lr=lr)"
      ]
    },
    {
      "cell_type": "code",
      "source": [
        "%%time\n",
        "learning_cycle(10, trainloader)"
      ],
      "metadata": {
        "colab": {
          "base_uri": "https://localhost:8080/"
        },
        "id": "aGn9EPy51g1N",
        "outputId": "aa8a372e-5601-4648-ff99-838a1ff1caf9"
      },
      "execution_count": 138,
      "outputs": [
        {
          "output_type": "stream",
          "name": "stdout",
          "text": [
            "Epoch=1 loss=2.2911\n",
            "Epoch=2 loss=2.2410\n",
            "Epoch=3 loss=2.1844\n",
            "Epoch=4 loss=2.1161\n",
            "Epoch=5 loss=2.0330\n",
            "Epoch=6 loss=1.9357\n",
            "Epoch=7 loss=1.8292\n",
            "Epoch=8 loss=1.7192\n",
            "Epoch=9 loss=1.6097\n",
            "Epoch=10 loss=1.5038\n",
            "CPU times: user 26.5 s, sys: 2.67 s, total: 29.1 s\n",
            "Wall time: 1min 58s\n"
          ]
        }
      ]
    },
    {
      "cell_type": "code",
      "execution_count": 139,
      "metadata": {
        "id": "Gfbv9OIAAoYT",
        "colab": {
          "base_uri": "https://localhost:8080/"
        },
        "outputId": "7885e747-8769-4e8c-c15f-ecb4cb1f9b47"
      },
      "outputs": [
        {
          "output_type": "execute_result",
          "data": {
            "text/plain": [
              "0.51"
            ]
          },
          "metadata": {},
          "execution_count": 139
        }
      ],
      "source": [
        "acc_activation = pd.DataFrame(columns=['Activation_function','Accuracy'])\n",
        "curr_accuracy = get_accuracy(fc_net, testloader)\n",
        "acc_activation.loc[len(acc_activation.index)] = ['RELU', curr_accuracy]\n",
        "curr_accuracy"
      ]
    },
    {
      "cell_type": "markdown",
      "metadata": {
        "id": "RcIJvhWkcjlh"
      },
      "source": [
        "Как изменилась `accuracy` после нормализации?\n",
        "\n",
        "**Ответ:** Accuracy после нормализации несколько увеличилась, хотя всё еще остается низкой. Я понимаю, можно было воспользоваться методами для работы с тензорами, чтобы посчитать `std` и `mean` для нашего одного канала для всех картинок. Но, если я правильно понимаю, мне нужен тензор с размерностью (60000, 1, 28, 28). Такое же примерно, как и в примере на семинаре. Но я пока не понимаю, как его создать. Можно ли создать \"пустой\" с 4-мя размерностями и найти какой-нибудь аналог `append`, но для тензоров?"
      ]
    },
    {
      "cell_type": "markdown",
      "metadata": {
        "id": "atcfzu4acxP2"
      },
      "source": [
        "### Задание 5. Изучение влияния функции активации\n",
        "\n",
        "**3** балла\n",
        "\n",
        "Исследуйте влияние функций активации на скорость обучения и точность предсказаний модели.\n",
        "\n",
        "Используйте три функции:\n",
        "\n",
        "* [Sigmoid](https://pytorch.org/docs/stable/nn.functional.html#sigmoid)\n",
        "* [GELU](https://pytorch.org/docs/stable/nn.functional.html#gelu)\n",
        "* [Tanh](https://pytorch.org/docs/stable/generated/torch.nn.Tanh.html#torch.nn.Tanh)"
      ]
    },
    {
      "cell_type": "markdown",
      "source": [
        "**Sigmoid**"
      ],
      "metadata": {
        "id": "XuEYqQo_BJV0"
      }
    },
    {
      "cell_type": "code",
      "execution_count": 140,
      "metadata": {
        "id": "bAESPpjGa3M1"
      },
      "outputs": [],
      "source": [
        "fc_net = FCNet(nn.Sigmoid())\n",
        "loss_function = nn.CrossEntropyLoss()\n",
        "lr = 0.001\n",
        "optimizer = torch.optim.SGD(fc_net.parameters(), lr=lr)"
      ]
    },
    {
      "cell_type": "code",
      "execution_count": 141,
      "metadata": {
        "id": "GdvHSFeKa2sW",
        "colab": {
          "base_uri": "https://localhost:8080/"
        },
        "outputId": "b1acfc73-4bec-4b89-9ffd-7a279d3d8c96"
      },
      "outputs": [
        {
          "output_type": "stream",
          "name": "stdout",
          "text": [
            "Epoch=1 loss=2.3267\n",
            "Epoch=2 loss=2.3073\n",
            "Epoch=3 loss=2.3017\n",
            "Epoch=4 loss=2.2996\n",
            "Epoch=5 loss=2.2982\n",
            "Epoch=6 loss=2.2971\n",
            "Epoch=7 loss=2.2960\n",
            "Epoch=8 loss=2.2949\n",
            "Epoch=9 loss=2.2938\n",
            "Epoch=10 loss=2.2927\n",
            "CPU times: user 26.3 s, sys: 2.69 s, total: 29 s\n",
            "Wall time: 1min 51s\n"
          ]
        }
      ],
      "source": [
        "%%time\n",
        "learning_cycle(10, trainloader)"
      ]
    },
    {
      "cell_type": "code",
      "execution_count": 142,
      "metadata": {
        "id": "zBok8pXNa2vA",
        "colab": {
          "base_uri": "https://localhost:8080/"
        },
        "outputId": "d45927ea-21b3-4865-e968-935ec97ef9e0"
      },
      "outputs": [
        {
          "output_type": "execute_result",
          "data": {
            "text/plain": [
              "0.2701"
            ]
          },
          "metadata": {},
          "execution_count": 142
        }
      ],
      "source": [
        "curr_accuracy = get_accuracy(fc_net, testloader)\n",
        "acc_activation.loc[len(acc_activation.index)] = ['Sigmoid', curr_accuracy]\n",
        "curr_accuracy"
      ]
    },
    {
      "cell_type": "markdown",
      "source": [
        "**GELU**"
      ],
      "metadata": {
        "id": "Ki47gJeWBP46"
      }
    },
    {
      "cell_type": "code",
      "source": [
        "fc_net = FCNet(F.gelu)\n",
        "loss_function = nn.CrossEntropyLoss()\n",
        "lr = 0.001\n",
        "optimizer = torch.optim.SGD(fc_net.parameters(), lr=lr)"
      ],
      "metadata": {
        "id": "m-pRYnIsBTsx"
      },
      "execution_count": 143,
      "outputs": []
    },
    {
      "cell_type": "code",
      "source": [
        "%%time\n",
        "learning_cycle(10, trainloader)"
      ],
      "metadata": {
        "colab": {
          "base_uri": "https://localhost:8080/"
        },
        "id": "d4yYDc7vBT4g",
        "outputId": "3a1da271-4554-4653-8fb3-2ffe76fa2456"
      },
      "execution_count": 144,
      "outputs": [
        {
          "output_type": "stream",
          "name": "stdout",
          "text": [
            "Epoch=1 loss=2.2828\n",
            "Epoch=2 loss=2.2567\n",
            "Epoch=3 loss=2.2285\n",
            "Epoch=4 loss=2.1961\n",
            "Epoch=5 loss=2.1572\n",
            "Epoch=6 loss=2.1090\n",
            "Epoch=7 loss=2.0487\n",
            "Epoch=8 loss=1.9741\n",
            "Epoch=9 loss=1.8864\n",
            "Epoch=10 loss=1.7894\n",
            "CPU times: user 27.7 s, sys: 2.58 s, total: 30.3 s\n",
            "Wall time: 1min 51s\n"
          ]
        }
      ]
    },
    {
      "cell_type": "code",
      "source": [
        "curr_accuracy = get_accuracy(fc_net, testloader)\n",
        "acc_activation.loc[len(acc_activation.index)] = ['GELU', curr_accuracy]\n",
        "curr_accuracy"
      ],
      "metadata": {
        "colab": {
          "base_uri": "https://localhost:8080/"
        },
        "id": "E_6RRPBtBjNn",
        "outputId": "092fac1e-858f-4d4b-fb4d-a804c2056920"
      },
      "execution_count": 145,
      "outputs": [
        {
          "output_type": "execute_result",
          "data": {
            "text/plain": [
              "0.43"
            ]
          },
          "metadata": {},
          "execution_count": 145
        }
      ]
    },
    {
      "cell_type": "markdown",
      "source": [
        "**Tanh**"
      ],
      "metadata": {
        "id": "9TovUWMvCUQZ"
      }
    },
    {
      "cell_type": "code",
      "source": [
        "fc_net = FCNet(nn.Tanh())\n",
        "loss_function = nn.CrossEntropyLoss()\n",
        "lr = 0.001\n",
        "optimizer = torch.optim.SGD(fc_net.parameters(), lr=lr)"
      ],
      "metadata": {
        "id": "O2bKCLn6CUe6"
      },
      "execution_count": 146,
      "outputs": []
    },
    {
      "cell_type": "code",
      "source": [
        "%%time\n",
        "learning_cycle(10, trainloader)"
      ],
      "metadata": {
        "colab": {
          "base_uri": "https://localhost:8080/"
        },
        "id": "WSyZxEwcCUpB",
        "outputId": "b8fda73e-37ab-488e-d335-7e989fe506e3"
      },
      "execution_count": 147,
      "outputs": [
        {
          "output_type": "stream",
          "name": "stdout",
          "text": [
            "Epoch=1 loss=2.1925\n",
            "Epoch=2 loss=2.0236\n",
            "Epoch=3 loss=1.8734\n",
            "Epoch=4 loss=1.7397\n",
            "Epoch=5 loss=1.6221\n",
            "Epoch=6 loss=1.5188\n",
            "Epoch=7 loss=1.4287\n",
            "Epoch=8 loss=1.3485\n",
            "Epoch=9 loss=1.2776\n",
            "Epoch=10 loss=1.2152\n",
            "CPU times: user 26.4 s, sys: 2.62 s, total: 29 s\n",
            "Wall time: 1min 49s\n"
          ]
        }
      ]
    },
    {
      "cell_type": "code",
      "source": [
        "curr_accuracy = get_accuracy(fc_net, testloader)\n",
        "acc_activation.loc[len(acc_activation.index)] = ['Tanh', curr_accuracy]\n",
        "acc_optimizer = pd.DataFrame(columns=['Optimizer','Accuracy'])\n",
        "acc_optimizer.loc[len(acc_optimizer.index)] = ['SGD', curr_accuracy]\n",
        "acc_activation"
      ],
      "metadata": {
        "colab": {
          "base_uri": "https://localhost:8080/",
          "height": 175
        },
        "id": "vqmiuxctCU1h",
        "outputId": "8d44cf2c-a8b1-4c52-ced9-7622e84d2c03"
      },
      "execution_count": 148,
      "outputs": [
        {
          "output_type": "execute_result",
          "data": {
            "text/plain": [
              "  Activation_function  Accuracy\n",
              "0                RELU    0.5100\n",
              "1             Sigmoid    0.2701\n",
              "2                GELU    0.4300\n",
              "3                Tanh    0.5443"
            ],
            "text/html": [
              "\n",
              "  <div id=\"df-77457744-6f52-420d-be39-57d5285837c0\">\n",
              "    <div class=\"colab-df-container\">\n",
              "      <div>\n",
              "<style scoped>\n",
              "    .dataframe tbody tr th:only-of-type {\n",
              "        vertical-align: middle;\n",
              "    }\n",
              "\n",
              "    .dataframe tbody tr th {\n",
              "        vertical-align: top;\n",
              "    }\n",
              "\n",
              "    .dataframe thead th {\n",
              "        text-align: right;\n",
              "    }\n",
              "</style>\n",
              "<table border=\"1\" class=\"dataframe\">\n",
              "  <thead>\n",
              "    <tr style=\"text-align: right;\">\n",
              "      <th></th>\n",
              "      <th>Activation_function</th>\n",
              "      <th>Accuracy</th>\n",
              "    </tr>\n",
              "  </thead>\n",
              "  <tbody>\n",
              "    <tr>\n",
              "      <th>0</th>\n",
              "      <td>RELU</td>\n",
              "      <td>0.5100</td>\n",
              "    </tr>\n",
              "    <tr>\n",
              "      <th>1</th>\n",
              "      <td>Sigmoid</td>\n",
              "      <td>0.2701</td>\n",
              "    </tr>\n",
              "    <tr>\n",
              "      <th>2</th>\n",
              "      <td>GELU</td>\n",
              "      <td>0.4300</td>\n",
              "    </tr>\n",
              "    <tr>\n",
              "      <th>3</th>\n",
              "      <td>Tanh</td>\n",
              "      <td>0.5443</td>\n",
              "    </tr>\n",
              "  </tbody>\n",
              "</table>\n",
              "</div>\n",
              "      <button class=\"colab-df-convert\" onclick=\"convertToInteractive('df-77457744-6f52-420d-be39-57d5285837c0')\"\n",
              "              title=\"Convert this dataframe to an interactive table.\"\n",
              "              style=\"display:none;\">\n",
              "        \n",
              "  <svg xmlns=\"http://www.w3.org/2000/svg\" height=\"24px\"viewBox=\"0 0 24 24\"\n",
              "       width=\"24px\">\n",
              "    <path d=\"M0 0h24v24H0V0z\" fill=\"none\"/>\n",
              "    <path d=\"M18.56 5.44l.94 2.06.94-2.06 2.06-.94-2.06-.94-.94-2.06-.94 2.06-2.06.94zm-11 1L8.5 8.5l.94-2.06 2.06-.94-2.06-.94L8.5 2.5l-.94 2.06-2.06.94zm10 10l.94 2.06.94-2.06 2.06-.94-2.06-.94-.94-2.06-.94 2.06-2.06.94z\"/><path d=\"M17.41 7.96l-1.37-1.37c-.4-.4-.92-.59-1.43-.59-.52 0-1.04.2-1.43.59L10.3 9.45l-7.72 7.72c-.78.78-.78 2.05 0 2.83L4 21.41c.39.39.9.59 1.41.59.51 0 1.02-.2 1.41-.59l7.78-7.78 2.81-2.81c.8-.78.8-2.07 0-2.86zM5.41 20L4 18.59l7.72-7.72 1.47 1.35L5.41 20z\"/>\n",
              "  </svg>\n",
              "      </button>\n",
              "      \n",
              "  <style>\n",
              "    .colab-df-container {\n",
              "      display:flex;\n",
              "      flex-wrap:wrap;\n",
              "      gap: 12px;\n",
              "    }\n",
              "\n",
              "    .colab-df-convert {\n",
              "      background-color: #E8F0FE;\n",
              "      border: none;\n",
              "      border-radius: 50%;\n",
              "      cursor: pointer;\n",
              "      display: none;\n",
              "      fill: #1967D2;\n",
              "      height: 32px;\n",
              "      padding: 0 0 0 0;\n",
              "      width: 32px;\n",
              "    }\n",
              "\n",
              "    .colab-df-convert:hover {\n",
              "      background-color: #E2EBFA;\n",
              "      box-shadow: 0px 1px 2px rgba(60, 64, 67, 0.3), 0px 1px 3px 1px rgba(60, 64, 67, 0.15);\n",
              "      fill: #174EA6;\n",
              "    }\n",
              "\n",
              "    [theme=dark] .colab-df-convert {\n",
              "      background-color: #3B4455;\n",
              "      fill: #D2E3FC;\n",
              "    }\n",
              "\n",
              "    [theme=dark] .colab-df-convert:hover {\n",
              "      background-color: #434B5C;\n",
              "      box-shadow: 0px 1px 3px 1px rgba(0, 0, 0, 0.15);\n",
              "      filter: drop-shadow(0px 1px 2px rgba(0, 0, 0, 0.3));\n",
              "      fill: #FFFFFF;\n",
              "    }\n",
              "  </style>\n",
              "\n",
              "      <script>\n",
              "        const buttonEl =\n",
              "          document.querySelector('#df-77457744-6f52-420d-be39-57d5285837c0 button.colab-df-convert');\n",
              "        buttonEl.style.display =\n",
              "          google.colab.kernel.accessAllowed ? 'block' : 'none';\n",
              "\n",
              "        async function convertToInteractive(key) {\n",
              "          const element = document.querySelector('#df-77457744-6f52-420d-be39-57d5285837c0');\n",
              "          const dataTable =\n",
              "            await google.colab.kernel.invokeFunction('convertToInteractive',\n",
              "                                                     [key], {});\n",
              "          if (!dataTable) return;\n",
              "\n",
              "          const docLinkHtml = 'Like what you see? Visit the ' +\n",
              "            '<a target=\"_blank\" href=https://colab.research.google.com/notebooks/data_table.ipynb>data table notebook</a>'\n",
              "            + ' to learn more about interactive tables.';\n",
              "          element.innerHTML = '';\n",
              "          dataTable['output_type'] = 'display_data';\n",
              "          await google.colab.output.renderOutput(dataTable, element);\n",
              "          const docLink = document.createElement('div');\n",
              "          docLink.innerHTML = docLinkHtml;\n",
              "          element.appendChild(docLink);\n",
              "        }\n",
              "      </script>\n",
              "    </div>\n",
              "  </div>\n",
              "  "
            ]
          },
          "metadata": {},
          "execution_count": 148
        }
      ]
    },
    {
      "cell_type": "markdown",
      "metadata": {
        "id": "aG2Oyxy2egVV"
      },
      "source": [
        "С использованием какой функции активации удалось досчить наибольшей `accuracy`?\n",
        "\n",
        "**Ответ:** Наибольшее значение `accuracy` удалось достичь при использовании гиперболического тангенса."
      ]
    },
    {
      "cell_type": "code",
      "execution_count": null,
      "metadata": {
        "id": "5SaqWhlkjuO3"
      },
      "outputs": [],
      "source": [
        ""
      ]
    },
    {
      "cell_type": "markdown",
      "metadata": {
        "id": "20Ls3Bfsifqd"
      },
      "source": [
        "### Задание 6. Другие оптимизаторы\n",
        "\n",
        "**4** балла\n",
        "\n",
        "Исследуйте влияние оптимизаторов на скорость обучения и точность предсказаний модели.\n",
        "\n",
        "Попробуйте следующие:\n",
        "\n",
        "* [Adam](https://pytorch.org/docs/stable/generated/torch.optim.Adam.html#torch.optim.Adam)\n",
        "* [RMSprop](https://pytorch.org/docs/stable/generated/torch.optim.RMSprop.html#torch.optim.RMSprop)\n",
        "* [Adagrad](https://pytorch.org/docs/stable/generated/torch.optim.Adagrad.html#torch.optim.Adagrad)\n",
        "\n",
        "Вам нужно снова обучить 3 модели и сравнить их перформанс (функцию активации используйте ту, которая показала себя лучше всего)."
      ]
    },
    {
      "cell_type": "markdown",
      "source": [
        "**Adam**"
      ],
      "metadata": {
        "id": "AVarRqPxItea"
      }
    },
    {
      "cell_type": "code",
      "source": [
        "fc_net = FCNet(nn.Tanh())\n",
        "loss_function = nn.CrossEntropyLoss()\n",
        "lr = 0.001\n",
        "optimizer = torch.optim.Adam(fc_net.parameters(), lr=lr)"
      ],
      "metadata": {
        "id": "OmTL-xoeJWID"
      },
      "execution_count": 149,
      "outputs": []
    },
    {
      "cell_type": "code",
      "source": [
        "%%time\n",
        "learning_cycle(10, trainloader)"
      ],
      "metadata": {
        "colab": {
          "base_uri": "https://localhost:8080/"
        },
        "id": "liRyQla0JWLi",
        "outputId": "7d2172bc-ad0f-4283-e505-719200d93aaf"
      },
      "execution_count": 150,
      "outputs": [
        {
          "output_type": "stream",
          "name": "stdout",
          "text": [
            "Epoch=1 loss=0.5109\n",
            "Epoch=2 loss=0.2005\n",
            "Epoch=3 loss=0.1179\n",
            "Epoch=4 loss=0.0740\n",
            "Epoch=5 loss=0.0435\n",
            "Epoch=6 loss=0.0269\n",
            "Epoch=7 loss=0.0159\n",
            "Epoch=8 loss=0.0110\n",
            "Epoch=9 loss=0.0042\n",
            "Epoch=10 loss=0.0023\n",
            "CPU times: user 30.7 s, sys: 2.83 s, total: 33.6 s\n",
            "Wall time: 1min 52s\n"
          ]
        }
      ]
    },
    {
      "cell_type": "code",
      "source": [
        "curr_accuracy = get_accuracy(fc_net, testloader)\n",
        "acc_optimizer.loc[len(acc_optimizer.index)] = ['Adam', curr_accuracy]\n",
        "curr_accuracy"
      ],
      "metadata": {
        "colab": {
          "base_uri": "https://localhost:8080/"
        },
        "id": "p_9IWhU1JWQw",
        "outputId": "4665375f-3094-4b5f-9da1-cb9347418fdb"
      },
      "execution_count": 151,
      "outputs": [
        {
          "output_type": "execute_result",
          "data": {
            "text/plain": [
              "0.9031"
            ]
          },
          "metadata": {},
          "execution_count": 151
        }
      ]
    },
    {
      "cell_type": "markdown",
      "source": [
        "**RMSprop**"
      ],
      "metadata": {
        "id": "Omwmk1D5NQtE"
      }
    },
    {
      "cell_type": "code",
      "source": [
        "fc_net = FCNet(nn.Tanh())\n",
        "loss_function = nn.CrossEntropyLoss()\n",
        "lr = 0.001\n",
        "optimizer = torch.optim.RMSprop(fc_net.parameters(), lr=lr)"
      ],
      "metadata": {
        "id": "HiDR68PAJWTX"
      },
      "execution_count": 152,
      "outputs": []
    },
    {
      "cell_type": "code",
      "source": [
        "%%time\n",
        "learning_cycle(10, trainloader)"
      ],
      "metadata": {
        "colab": {
          "base_uri": "https://localhost:8080/"
        },
        "id": "2Kruq3TdNPA7",
        "outputId": "62ec3de1-830f-4f9e-a5ec-ca615a3b0e73"
      },
      "execution_count": 153,
      "outputs": [
        {
          "output_type": "stream",
          "name": "stdout",
          "text": [
            "Epoch=1 loss=0.4333\n",
            "Epoch=2 loss=0.1871\n",
            "Epoch=3 loss=0.1155\n",
            "Epoch=4 loss=0.0761\n",
            "Epoch=5 loss=0.0490\n",
            "Epoch=6 loss=0.0412\n",
            "Epoch=7 loss=0.0288\n",
            "Epoch=8 loss=0.0236\n",
            "Epoch=9 loss=0.0257\n",
            "Epoch=10 loss=0.0156\n",
            "CPU times: user 28.9 s, sys: 2.75 s, total: 31.7 s\n",
            "Wall time: 1min 52s\n"
          ]
        }
      ]
    },
    {
      "cell_type": "code",
      "source": [
        "curr_accuracy = get_accuracy(fc_net, testloader)\n",
        "acc_optimizer.loc[len(acc_optimizer.index)] = ['RMSprop', curr_accuracy]\n",
        "curr_accuracy"
      ],
      "metadata": {
        "colab": {
          "base_uri": "https://localhost:8080/"
        },
        "id": "4vm3N1__NPS-",
        "outputId": "d033b5d0-7e98-4b32-e10f-ab293da68e81"
      },
      "execution_count": 154,
      "outputs": [
        {
          "output_type": "execute_result",
          "data": {
            "text/plain": [
              "0.8882"
            ]
          },
          "metadata": {},
          "execution_count": 154
        }
      ]
    },
    {
      "cell_type": "markdown",
      "source": [
        "**Adagrad**"
      ],
      "metadata": {
        "id": "vSCj4udjNxOq"
      }
    },
    {
      "cell_type": "code",
      "source": [
        "fc_net = FCNet(nn.Tanh())\n",
        "loss_function = nn.CrossEntropyLoss()\n",
        "lr = 0.001\n",
        "optimizer = torch.optim.Adagrad(fc_net.parameters(), lr=lr)"
      ],
      "metadata": {
        "id": "PFoCvvtANPcp"
      },
      "execution_count": 155,
      "outputs": []
    },
    {
      "cell_type": "code",
      "source": [
        "%%time\n",
        "learning_cycle(10, trainloader)"
      ],
      "metadata": {
        "colab": {
          "base_uri": "https://localhost:8080/"
        },
        "id": "FsMWmpgCNPrc",
        "outputId": "8fbd6785-58e5-4453-c4c7-c384fc8af4f1"
      },
      "execution_count": 156,
      "outputs": [
        {
          "output_type": "stream",
          "name": "stdout",
          "text": [
            "Epoch=1 loss=0.8742\n",
            "Epoch=2 loss=0.6072\n",
            "Epoch=3 loss=0.5399\n",
            "Epoch=4 loss=0.4962\n",
            "Epoch=5 loss=0.4638\n",
            "Epoch=6 loss=0.4375\n",
            "Epoch=7 loss=0.4157\n",
            "Epoch=8 loss=0.3970\n",
            "Epoch=9 loss=0.3797\n",
            "Epoch=10 loss=0.3649\n",
            "CPU times: user 28.9 s, sys: 2.79 s, total: 31.7 s\n",
            "Wall time: 1min 58s\n"
          ]
        }
      ]
    },
    {
      "cell_type": "code",
      "source": [
        "curr_accuracy = get_accuracy(fc_net, testloader)\n",
        "acc_optimizer.loc[len(acc_optimizer.index)] = ['Adagrad', curr_accuracy]\n",
        "acc_optimizer"
      ],
      "metadata": {
        "colab": {
          "base_uri": "https://localhost:8080/",
          "height": 175
        },
        "id": "imGTUXnKNP7l",
        "outputId": "32f720b0-8b06-4e24-9735-aac3956dab2f"
      },
      "execution_count": 157,
      "outputs": [
        {
          "output_type": "execute_result",
          "data": {
            "text/plain": [
              "  Optimizer  Accuracy\n",
              "0       SGD    0.5443\n",
              "1      Adam    0.9031\n",
              "2   RMSprop    0.8882\n",
              "3   Adagrad    0.7787"
            ],
            "text/html": [
              "\n",
              "  <div id=\"df-e7bdab84-430c-4c71-9e69-fe2446512a30\">\n",
              "    <div class=\"colab-df-container\">\n",
              "      <div>\n",
              "<style scoped>\n",
              "    .dataframe tbody tr th:only-of-type {\n",
              "        vertical-align: middle;\n",
              "    }\n",
              "\n",
              "    .dataframe tbody tr th {\n",
              "        vertical-align: top;\n",
              "    }\n",
              "\n",
              "    .dataframe thead th {\n",
              "        text-align: right;\n",
              "    }\n",
              "</style>\n",
              "<table border=\"1\" class=\"dataframe\">\n",
              "  <thead>\n",
              "    <tr style=\"text-align: right;\">\n",
              "      <th></th>\n",
              "      <th>Optimizer</th>\n",
              "      <th>Accuracy</th>\n",
              "    </tr>\n",
              "  </thead>\n",
              "  <tbody>\n",
              "    <tr>\n",
              "      <th>0</th>\n",
              "      <td>SGD</td>\n",
              "      <td>0.5443</td>\n",
              "    </tr>\n",
              "    <tr>\n",
              "      <th>1</th>\n",
              "      <td>Adam</td>\n",
              "      <td>0.9031</td>\n",
              "    </tr>\n",
              "    <tr>\n",
              "      <th>2</th>\n",
              "      <td>RMSprop</td>\n",
              "      <td>0.8882</td>\n",
              "    </tr>\n",
              "    <tr>\n",
              "      <th>3</th>\n",
              "      <td>Adagrad</td>\n",
              "      <td>0.7787</td>\n",
              "    </tr>\n",
              "  </tbody>\n",
              "</table>\n",
              "</div>\n",
              "      <button class=\"colab-df-convert\" onclick=\"convertToInteractive('df-e7bdab84-430c-4c71-9e69-fe2446512a30')\"\n",
              "              title=\"Convert this dataframe to an interactive table.\"\n",
              "              style=\"display:none;\">\n",
              "        \n",
              "  <svg xmlns=\"http://www.w3.org/2000/svg\" height=\"24px\"viewBox=\"0 0 24 24\"\n",
              "       width=\"24px\">\n",
              "    <path d=\"M0 0h24v24H0V0z\" fill=\"none\"/>\n",
              "    <path d=\"M18.56 5.44l.94 2.06.94-2.06 2.06-.94-2.06-.94-.94-2.06-.94 2.06-2.06.94zm-11 1L8.5 8.5l.94-2.06 2.06-.94-2.06-.94L8.5 2.5l-.94 2.06-2.06.94zm10 10l.94 2.06.94-2.06 2.06-.94-2.06-.94-.94-2.06-.94 2.06-2.06.94z\"/><path d=\"M17.41 7.96l-1.37-1.37c-.4-.4-.92-.59-1.43-.59-.52 0-1.04.2-1.43.59L10.3 9.45l-7.72 7.72c-.78.78-.78 2.05 0 2.83L4 21.41c.39.39.9.59 1.41.59.51 0 1.02-.2 1.41-.59l7.78-7.78 2.81-2.81c.8-.78.8-2.07 0-2.86zM5.41 20L4 18.59l7.72-7.72 1.47 1.35L5.41 20z\"/>\n",
              "  </svg>\n",
              "      </button>\n",
              "      \n",
              "  <style>\n",
              "    .colab-df-container {\n",
              "      display:flex;\n",
              "      flex-wrap:wrap;\n",
              "      gap: 12px;\n",
              "    }\n",
              "\n",
              "    .colab-df-convert {\n",
              "      background-color: #E8F0FE;\n",
              "      border: none;\n",
              "      border-radius: 50%;\n",
              "      cursor: pointer;\n",
              "      display: none;\n",
              "      fill: #1967D2;\n",
              "      height: 32px;\n",
              "      padding: 0 0 0 0;\n",
              "      width: 32px;\n",
              "    }\n",
              "\n",
              "    .colab-df-convert:hover {\n",
              "      background-color: #E2EBFA;\n",
              "      box-shadow: 0px 1px 2px rgba(60, 64, 67, 0.3), 0px 1px 3px 1px rgba(60, 64, 67, 0.15);\n",
              "      fill: #174EA6;\n",
              "    }\n",
              "\n",
              "    [theme=dark] .colab-df-convert {\n",
              "      background-color: #3B4455;\n",
              "      fill: #D2E3FC;\n",
              "    }\n",
              "\n",
              "    [theme=dark] .colab-df-convert:hover {\n",
              "      background-color: #434B5C;\n",
              "      box-shadow: 0px 1px 3px 1px rgba(0, 0, 0, 0.15);\n",
              "      filter: drop-shadow(0px 1px 2px rgba(0, 0, 0, 0.3));\n",
              "      fill: #FFFFFF;\n",
              "    }\n",
              "  </style>\n",
              "\n",
              "      <script>\n",
              "        const buttonEl =\n",
              "          document.querySelector('#df-e7bdab84-430c-4c71-9e69-fe2446512a30 button.colab-df-convert');\n",
              "        buttonEl.style.display =\n",
              "          google.colab.kernel.accessAllowed ? 'block' : 'none';\n",
              "\n",
              "        async function convertToInteractive(key) {\n",
              "          const element = document.querySelector('#df-e7bdab84-430c-4c71-9e69-fe2446512a30');\n",
              "          const dataTable =\n",
              "            await google.colab.kernel.invokeFunction('convertToInteractive',\n",
              "                                                     [key], {});\n",
              "          if (!dataTable) return;\n",
              "\n",
              "          const docLinkHtml = 'Like what you see? Visit the ' +\n",
              "            '<a target=\"_blank\" href=https://colab.research.google.com/notebooks/data_table.ipynb>data table notebook</a>'\n",
              "            + ' to learn more about interactive tables.';\n",
              "          element.innerHTML = '';\n",
              "          dataTable['output_type'] = 'display_data';\n",
              "          await google.colab.output.renderOutput(dataTable, element);\n",
              "          const docLink = document.createElement('div');\n",
              "          docLink.innerHTML = docLinkHtml;\n",
              "          element.appendChild(docLink);\n",
              "        }\n",
              "      </script>\n",
              "    </div>\n",
              "  </div>\n",
              "  "
            ]
          },
          "metadata": {},
          "execution_count": 157
        }
      ]
    },
    {
      "cell_type": "markdown",
      "source": [
        "**Ответ:** С выбранной функцией активации (*Tanh*) наибольшее значение `accuracy` было достигнуто при использовании в качестве оптимизатора *Adam*"
      ],
      "metadata": {
        "id": "4ASedFZFOb6T"
      }
    },
    {
      "cell_type": "markdown",
      "metadata": {
        "id": "eHA48PsperxS"
      },
      "source": [
        "### Задание 7. Реализация ReLU\n",
        "\n",
        "**4** балла\n",
        "\n",
        "Самостоятельно реализуйте функцию активации ReLU.\n",
        "Замените в уже обученной модели функцию активации на вашу. Убедитесь что ничего не изменилась."
      ]
    },
    {
      "cell_type": "code",
      "execution_count": 158,
      "metadata": {
        "id": "63uTkUp-a2xr"
      },
      "outputs": [],
      "source": [
        "class CustomReLU(nn.Module):     \n",
        "    def __init__(self):\n",
        "        super().__init__()\n",
        "\n",
        "    def forward(self, x):\n",
        "        x[x < 0] = 0\n",
        "        return x"
      ]
    },
    {
      "cell_type": "markdown",
      "metadata": {
        "id": "xsKzxa33fhbN"
      },
      "source": [
        "Заново обучите модель и проверьте правильность реализации `CustomReLU`."
      ]
    },
    {
      "cell_type": "code",
      "execution_count": 159,
      "metadata": {
        "id": "ePP55RBeecYh"
      },
      "outputs": [],
      "source": [
        "fc_net = FCNet(CustomReLU())\n",
        "loss_function = nn.CrossEntropyLoss()\n",
        "lr = 0.001\n",
        "optimizer = torch.optim.Adam(fc_net.parameters(), lr=lr)"
      ]
    },
    {
      "cell_type": "code",
      "source": [
        "%%time\n",
        "learning_cycle(10, trainloader)"
      ],
      "metadata": {
        "colab": {
          "base_uri": "https://localhost:8080/"
        },
        "id": "hVkmi3kWspM5",
        "outputId": "f7b097f3-80d6-49c6-bea5-498feeb74ca1"
      },
      "execution_count": 160,
      "outputs": [
        {
          "output_type": "stream",
          "name": "stdout",
          "text": [
            "Epoch=1 loss=0.4519\n",
            "Epoch=2 loss=0.1875\n",
            "Epoch=3 loss=0.1212\n",
            "Epoch=4 loss=0.0839\n",
            "Epoch=5 loss=0.0581\n",
            "Epoch=6 loss=0.0379\n",
            "Epoch=7 loss=0.0296\n",
            "Epoch=8 loss=0.0198\n",
            "Epoch=9 loss=0.0179\n",
            "Epoch=10 loss=0.0138\n",
            "CPU times: user 33.3 s, sys: 2.76 s, total: 36 s\n",
            "Wall time: 1min 52s\n"
          ]
        }
      ]
    },
    {
      "cell_type": "code",
      "source": [
        "get_accuracy(fc_net, testloader)"
      ],
      "metadata": {
        "colab": {
          "base_uri": "https://localhost:8080/"
        },
        "id": "n_FBvuIDspW9",
        "outputId": "95168ead-ebb8-495b-bf3c-b3c03144ee23"
      },
      "execution_count": 161,
      "outputs": [
        {
          "output_type": "execute_result",
          "data": {
            "text/plain": [
              "0.8983"
            ]
          },
          "metadata": {},
          "execution_count": 161
        }
      ]
    },
    {
      "cell_type": "code",
      "source": [
        "fc_net = FCNet(F.relu)\n",
        "loss_function = nn.CrossEntropyLoss()\n",
        "lr = 0.001\n",
        "optimizer = torch.optim.Adam(fc_net.parameters(), lr=lr)"
      ],
      "metadata": {
        "id": "vSQrQ68Vo_jZ"
      },
      "execution_count": 162,
      "outputs": []
    },
    {
      "cell_type": "code",
      "source": [
        "%%time\n",
        "learning_cycle(10, trainloader)"
      ],
      "metadata": {
        "colab": {
          "base_uri": "https://localhost:8080/"
        },
        "id": "AmwCitwLpP6z",
        "outputId": "b2426d99-14e2-49b9-d592-f8e0b4fbdd75"
      },
      "execution_count": 163,
      "outputs": [
        {
          "output_type": "stream",
          "name": "stdout",
          "text": [
            "Epoch=1 loss=0.4493\n",
            "Epoch=2 loss=0.1862\n",
            "Epoch=3 loss=0.1182\n",
            "Epoch=4 loss=0.0846\n",
            "Epoch=5 loss=0.0566\n",
            "Epoch=6 loss=0.0394\n",
            "Epoch=7 loss=0.0325\n",
            "Epoch=8 loss=0.0215\n",
            "Epoch=9 loss=0.0146\n",
            "Epoch=10 loss=0.0088\n",
            "CPU times: user 29.6 s, sys: 2.81 s, total: 32.4 s\n",
            "Wall time: 1min 50s\n"
          ]
        }
      ]
    },
    {
      "cell_type": "code",
      "source": [
        "get_accuracy(fc_net, testloader)"
      ],
      "metadata": {
        "colab": {
          "base_uri": "https://localhost:8080/"
        },
        "id": "hKJMBFP5paY0",
        "outputId": "96a85508-8524-4272-8d6f-1ca7d748097b"
      },
      "execution_count": 164,
      "outputs": [
        {
          "output_type": "execute_result",
          "data": {
            "text/plain": [
              "0.8961"
            ]
          },
          "metadata": {},
          "execution_count": 164
        }
      ]
    },
    {
      "cell_type": "markdown",
      "source": [
        "**Ответ:** Всё-таки мне кажется, `accuracy` несколько отличаются с ReLU и CustomRelu."
      ],
      "metadata": {
        "id": "PUtoYWKCot6f"
      }
    },
    {
      "cell_type": "markdown",
      "metadata": {
        "id": "vWBG1mMwgN17"
      },
      "source": [
        "### Задание 8. Генерация картинок\n",
        "\n",
        "**3** балла\n",
        "\n",
        "Придумайте 3 предложения и сгенерируйте при помощи них 3 картинки, используя телеграм бота [ruDALLE](https://t.me/sber_rudalle_xl_bot). Прикрепите сюда ваши картины."
      ]
    },
    {
      "cell_type": "markdown",
      "source": [
        "По запросам:\\\n",
        "1) \"Самый милый щенок на свете\"\\\n",
        "2) \"я грустила у окна, потому что там война\"\\\n",
        "3) \"новая жизнь\"\\\n",
        "4) \"Эрен превращается в титана\"\\\n",
        "5) \"любовь спасет мир\"\\\n",
        "6) \"милые коровки на альпийских лугах\""
      ],
      "metadata": {
        "id": "QkP83C7CdqmW"
      }
    },
    {
      "cell_type": "markdown",
      "source": [
        "<img src='https://drive.google.com/uc?id=1hvvNKBZWpgtx-_r9rZJeHdNpGOYj7wDW' width=\"330\" height=\"330\">  <img src='https://drive.google.com/uc?id=1gvTY1NxCp74NofIOVwK1rmovNoUu6EDz' width=\"330\" height=\"330\">  <img src='https://drive.google.com/uc?id=12lTxPp2CXZo1t_xNUhhkirAoAUcksG03' width=\"330\" height=\"330\">  <img src='https://drive.google.com/uc?id=1py7fjbYFtOShK3ptzE2X-34r7YPTa7yH' width=\"330\" height=\"330\">  <img src='https://drive.google.com/uc?id=1Nma67HlmobXCWkU-3US3Ss4xBueQAsWg' width=\"330\" height=\"330\">  <img src='https://drive.google.com/uc?id=1jq2GB9gAj_brt1pMivUkAgV38YueDev4' width=\"330\" height=\"330\">"
      ],
      "metadata": {
        "id": "B5papLwscqzK"
      }
    },
    {
      "cell_type": "markdown",
      "source": [
        "ruDALL-E еще и эмодзи может создавать O_o:\n",
        "\n",
        "По запросам:\\\n",
        "1) \"нейронные сети\"\\\n",
        "2) \"радость от сделанной домашки\" (мой фаворит - эмодзи с индексом [2, 1])"
      ],
      "metadata": {
        "id": "XT2UYMw_3L4k"
      }
    },
    {
      "cell_type": "markdown",
      "source": [
        "<img src='https://drive.google.com/uc?id=10Et1SXFgft_XizOT0oDP7Z2H9IsHY57g' width=\"500\" height=\"500\">______<img src='https://drive.google.com/uc?id=1K1IkTbatKn_hdPqoBzt-fRiggBy1kBow' width=\"500\" height=\"500\">\n",
        "\n",
        "\n"
      ],
      "metadata": {
        "id": "8oPuhpJt3xDy"
      }
    },
    {
      "cell_type": "markdown",
      "source": [
        "слишком залипательное задание :)"
      ],
      "metadata": {
        "id": "7Vcz1z-w8vYE"
      }
    },
    {
      "cell_type": "code",
      "source": [
        ""
      ],
      "metadata": {
        "id": "QqEi6sBM8yZZ"
      },
      "execution_count": null,
      "outputs": []
    }
  ],
  "metadata": {
    "colab": {
      "collapsed_sections": [],
      "name": "FC_NN_practice_2.ipynb",
      "provenance": []
    },
    "kernelspec": {
      "display_name": "Python 3 (ipykernel)",
      "language": "python",
      "name": "python3"
    },
    "language_info": {
      "codemirror_mode": {
        "name": "ipython",
        "version": 3
      },
      "file_extension": ".py",
      "mimetype": "text/x-python",
      "name": "python",
      "nbconvert_exporter": "python",
      "pygments_lexer": "ipython3",
      "version": "3.9.5"
    }
  },
  "nbformat": 4,
  "nbformat_minor": 0
}