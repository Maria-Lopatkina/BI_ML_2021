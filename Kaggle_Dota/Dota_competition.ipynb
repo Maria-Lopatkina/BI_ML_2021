{
 "cells": [
  {
   "cell_type": "markdown",
   "metadata": {
    "papermill": {
     "duration": 0.044486,
     "end_time": "2022-02-13T23:28:22.423626",
     "exception": false,
     "start_time": "2022-02-13T23:28:22.37914",
     "status": "completed"
    },
    "tags": []
   },
   "source": [
    "# <center> Предсказание победителя в Dota 2\n",
    "<center> <img src=\"https://meduza.io/impro/YnJZAHUW6WHz_JQm1uRPkTql_qAhbfxt3oFJLGH7CJg/fill/980/0/ce/1/aHR0cHM6Ly9tZWR1/emEuaW8vaW1hZ2Uv/YXR0YWNobWVudHMv/aW1hZ2VzLzAwNy8x/NTcvNjk1L29yaWdp/bmFsL0tMVThLbUti/ZG5pSzlibDA0Wmlw/WXcuanBn.webp\" width=\"700\" height=\"700\">"
   ]
  },
  {
   "cell_type": "markdown",
   "metadata": {
    "papermill": {
     "duration": 0.042953,
     "end_time": "2022-02-13T23:28:22.51031",
     "exception": false,
     "start_time": "2022-02-13T23:28:22.467357",
     "status": "completed"
    },
    "tags": []
   },
   "source": [
    "[Почитать подбробнее](https://meduza.io/feature/2021/10/19/rossiyskaya-komanda-vyigrala-chempionat-mira-po-dota-2-i-poluchila-18-millionov-dollarov-postoyte-otkuda-takie-dengi-neuzheli-igrat-v-dotu-tak-slozhno)"
   ]
  },
  {
   "cell_type": "markdown",
   "metadata": {
    "papermill": {
     "duration": 0.042954,
     "end_time": "2022-02-13T23:28:22.59833",
     "exception": false,
     "start_time": "2022-02-13T23:28:22.555376",
     "status": "completed"
    },
    "tags": []
   },
   "source": [
    "#### [Оригинальная статья](https://arxiv.org/pdf/2106.01782.pdf)\n",
    "    \n",
    "### Начало\n",
    "\n",
    "Посмотрим на готовые признаки и сделаем первую посылку. \n",
    "\n",
    "1. [Описание данных](#Описание-данных)\n",
    "2. [Описание признаков](#Описание-признаков)\n",
    "3. [Наша первая модель](#Наша-первая-модель)\n",
    "4. [Посылка](#Посылка)\n",
    "\n",
    "### Первые шаги на пути в датасайенс\n",
    "\n",
    "5. [Кросс-валидация](#Кросс-валидация)\n",
    "6. [Что есть в json файлах?](#Что-есть-в-json-файлах?)\n",
    "7. [Feature engineering](#Feature-engineering)"
   ]
  },
  {
   "cell_type": "markdown",
   "metadata": {
    "papermill": {
     "duration": 0.045141,
     "end_time": "2022-02-13T23:28:22.688388",
     "exception": false,
     "start_time": "2022-02-13T23:28:22.643247",
     "status": "completed"
    },
    "tags": []
   },
   "source": [
    "### Импорты"
   ]
  },
  {
   "cell_type": "code",
   "execution_count": null,
   "metadata": {
    "execution": {
     "iopub.execute_input": "2022-04-03T14:06:34.240741Z",
     "iopub.status.busy": "2022-04-03T14:06:34.240375Z",
     "iopub.status.idle": "2022-04-03T14:06:36.823186Z",
     "shell.execute_reply": "2022-04-03T14:06:36.822373Z",
     "shell.execute_reply.started": "2022-04-03T14:06:34.240622Z"
    },
    "papermill": {
     "duration": 1.526998,
     "end_time": "2022-02-13T23:28:24.258607",
     "exception": false,
     "start_time": "2022-02-13T23:28:22.731609",
     "status": "completed"
    },
    "tags": []
   },
   "outputs": [],
   "source": [
    "import os\n",
    "import json\n",
    "import pandas as pd\n",
    "import datetime\n",
    "import warnings\n",
    "import pickle\n",
    "import seaborn as sns\n",
    "import matplotlib.pyplot as plt\n",
    "import numpy as np\n",
    "from sklearn.model_selection import train_test_split, ShuffleSplit, cross_val_score, cross_val_predict, GridSearchCV\n",
    "from sklearn.ensemble import RandomForestClassifier\n",
    "from sklearn.metrics import roc_auc_score, accuracy_score\n",
    "\n",
    "import xgboost\n",
    "import catboost\n",
    "import lightgbm as lgb\n",
    "from sklearn.base import BaseEstimator, ClassifierMixin\n",
    "from sklearn.neighbors import KNeighborsRegressor\n",
    "from sklearn.linear_model import Ridge\n",
    "from sklearn.ensemble import RandomForestRegressor\n",
    "\n",
    "%matplotlib inline"
   ]
  },
  {
   "cell_type": "code",
   "execution_count": null,
   "metadata": {
    "execution": {
     "iopub.execute_input": "2022-04-03T14:06:40.717221Z",
     "iopub.status.busy": "2022-04-03T14:06:40.716608Z",
     "iopub.status.idle": "2022-04-03T14:06:40.721508Z",
     "shell.execute_reply": "2022-04-03T14:06:40.720719Z",
     "shell.execute_reply.started": "2022-04-03T14:06:40.717186Z"
    },
    "papermill": {
     "duration": 0.051811,
     "end_time": "2022-02-13T23:28:24.354647",
     "exception": false,
     "start_time": "2022-02-13T23:28:24.302836",
     "status": "completed"
    },
    "tags": []
   },
   "outputs": [],
   "source": [
    "SEED = 10801\n",
    "sns.set_style(style=\"whitegrid\")\n",
    "plt.rcParams[\"figure.figsize\"] = 12, 8\n",
    "warnings.filterwarnings(\"ignore\")"
   ]
  },
  {
   "cell_type": "markdown",
   "metadata": {
    "papermill": {
     "duration": 0.042707,
     "end_time": "2022-02-13T23:28:24.441767",
     "exception": false,
     "start_time": "2022-02-13T23:28:24.39906",
     "status": "completed"
    },
    "tags": []
   },
   "source": [
    "## <left>Описание данных\n",
    "\n",
    "Файлы:\n",
    "\n",
    "- `sample_submission.csv`: пример файла-посылки\n",
    "- `train_raw_data.jsonl`, `test_raw_data.jsonl`: \"сырые\" данные \n",
    "- `train_data.csv`, `test_data.csv`: признаки, созданные авторами\n",
    "- `train_targets.csv`: результаты тренировочных игр"
   ]
  },
  {
   "cell_type": "markdown",
   "metadata": {
    "papermill": {
     "duration": 0.042685,
     "end_time": "2022-02-13T23:28:24.527617",
     "exception": false,
     "start_time": "2022-02-13T23:28:24.484932",
     "status": "completed"
    },
    "tags": []
   },
   "source": [
    "## <left>Описание признаков\n",
    "    \n",
    "Набор простых признаков, описывающих игроков и команды в целом"
   ]
  },
  {
   "cell_type": "code",
   "execution_count": null,
   "metadata": {
    "execution": {
     "iopub.execute_input": "2022-04-03T14:07:04.430315Z",
     "iopub.status.busy": "2022-04-03T14:07:04.430018Z",
     "iopub.status.idle": "2022-04-03T14:07:05.741762Z",
     "shell.execute_reply": "2022-04-03T14:07:05.740943Z",
     "shell.execute_reply.started": "2022-04-03T14:07:04.430282Z"
    },
    "papermill": {
     "duration": 1.383765,
     "end_time": "2022-02-13T23:28:25.955912",
     "exception": false,
     "start_time": "2022-02-13T23:28:24.572147",
     "status": "completed"
    },
    "tags": []
   },
   "outputs": [],
   "source": [
    "df_train_features = pd.read_csv(\"../input/new-dataset/train_data.csv\", index_col=\"match_id_hash\")\n",
    "df_train_targets = pd.read_csv(\"../input/new-dataset/train_targets.csv\", index_col=\"match_id_hash\")"
   ]
  },
  {
   "cell_type": "markdown",
   "metadata": {},
   "source": [
    "<span style=\"color:purple\"></span>"
   ]
  },
  {
   "cell_type": "markdown",
   "metadata": {},
   "source": [
    "<span style=\"color:purple\">Добавлю в ноутбук описание признаков в таблице</span>"
   ]
  },
  {
   "cell_type": "markdown",
   "metadata": {},
   "source": [
    "Статистику игроков (префикс 'r' для команды Radiant, 'd' для Dire), которая включает поля:\n",
    "\n",
    "hero_id - id героя\n",
    "\n",
    "K/D/A: количество убийств, смертей и помощи.\n",
    "\n",
    "lh - last hits - число убитых вражеских крипов.\n",
    "\n",
    "denies - число добитых собственных крипов с целью не дать врагу золото.\n",
    "\n",
    "gold - количество золота у персонажа.\n",
    "\n",
    "xp - количество опыта у персонажа.\n",
    "\n",
    "level - уровень героя.\n",
    "\n",
    "health and max_health - здоровье и максимальное значение здоровья.\n",
    "\n",
    "max_mana - максимальное количество маны (мана нужна для использования способностей).\n",
    "\n",
    "x, y - текущие координаты игрока на карте.\n",
    "\n",
    "stuns - сколько секунд герой продержал врагов в оглушении.\n",
    "\n",
    "camps_stacked - сложная механика для первого раза, но чем она выше, тем проще команде получать золото.\n",
    "\n",
    "rune_pickups - число найденных рун (они дают разные временные бонусы, например, увеличение урона).\n",
    "\n",
    "firstblood_claimed - сделал ли игрок первое убийство в игре (обычно за это дают больше золота).\n",
    "\n",
    "teamfight_participation - в каком проценте сражений поучаствовал персонаж.\n",
    "\n",
    "towers_killed - число разрушенных вышек.\n",
    "\n",
    "roshans_killed - число убитых Рошанов (дает возможность одному из героев команды сразу возродиться после сметри).\n",
    "\n",
    "obs_placed, sen_placed - число Observer и Sentry вардов, установленных игроком (первые дают обзор на карте, а вторые показывают невидимых героев при наличии обзора в данной области, а также вражеские варды).\n",
    "\n",
    "В JSON файлах содержится гораздо больше информации, которую вам предстоит найти и с помощью нее создать дополнительные признаки. "
   ]
  },
  {
   "cell_type": "markdown",
   "metadata": {},
   "source": [
    "<span style=\"color:purple\">В таблице отсуствуют пропуски значений</span>"
   ]
  },
  {
   "cell_type": "code",
   "execution_count": null,
   "metadata": {
    "execution": {
     "iopub.execute_input": "2022-04-03T14:07:12.554261Z",
     "iopub.status.busy": "2022-04-03T14:07:12.553969Z",
     "iopub.status.idle": "2022-04-03T14:07:12.561333Z",
     "shell.execute_reply": "2022-04-03T14:07:12.560453Z",
     "shell.execute_reply.started": "2022-04-03T14:07:12.554233Z"
    },
    "papermill": {
     "duration": 0.055919,
     "end_time": "2022-02-13T23:28:26.055573",
     "exception": false,
     "start_time": "2022-02-13T23:28:25.999654",
     "status": "completed"
    },
    "tags": []
   },
   "outputs": [],
   "source": [
    "df_train_features.shape"
   ]
  },
  {
   "cell_type": "code",
   "execution_count": null,
   "metadata": {
    "execution": {
     "iopub.execute_input": "2022-04-03T14:07:15.27904Z",
     "iopub.status.busy": "2022-04-03T14:07:15.278678Z",
     "iopub.status.idle": "2022-04-03T14:07:15.29853Z",
     "shell.execute_reply": "2022-04-03T14:07:15.297831Z",
     "shell.execute_reply.started": "2022-04-03T14:07:15.279009Z"
    }
   },
   "outputs": [],
   "source": [
    "df_train_features.isna().sum().sum()"
   ]
  },
  {
   "cell_type": "code",
   "execution_count": null,
   "metadata": {
    "execution": {
     "iopub.execute_input": "2022-04-03T14:07:18.599437Z",
     "iopub.status.busy": "2022-04-03T14:07:18.599185Z",
     "iopub.status.idle": "2022-04-03T14:07:18.62826Z",
     "shell.execute_reply": "2022-04-03T14:07:18.627478Z",
     "shell.execute_reply.started": "2022-04-03T14:07:18.599409Z"
    },
    "papermill": {
     "duration": 0.073611,
     "end_time": "2022-02-13T23:28:26.173793",
     "exception": false,
     "start_time": "2022-02-13T23:28:26.100182",
     "status": "completed"
    },
    "tags": []
   },
   "outputs": [],
   "source": [
    "df_train_features.head()"
   ]
  },
  {
   "cell_type": "markdown",
   "metadata": {},
   "source": [
    "<span style=\"color:purple\">Посмотрим на признаки, которые есть в нашей таблице. Получается, что описанные выше параметры повторяются для каждого игрока в каждом матче (r1-r5, d1-d5)</span>"
   ]
  },
  {
   "cell_type": "code",
   "execution_count": null,
   "metadata": {
    "execution": {
     "iopub.execute_input": "2022-04-03T14:07:27.600808Z",
     "iopub.status.busy": "2022-04-03T14:07:27.600485Z",
     "iopub.status.idle": "2022-04-03T14:07:27.633276Z",
     "shell.execute_reply": "2022-04-03T14:07:27.631896Z",
     "shell.execute_reply.started": "2022-04-03T14:07:27.600773Z"
    }
   },
   "outputs": [],
   "source": [
    "for col in df_train_features.columns:\n",
    "    print(col)"
   ]
  },
  {
   "cell_type": "markdown",
   "metadata": {
    "papermill": {
     "duration": 0.043707,
     "end_time": "2022-02-13T23:28:26.26179",
     "exception": false,
     "start_time": "2022-02-13T23:28:26.218083",
     "status": "completed"
    },
    "tags": []
   },
   "source": [
    "Имеем ~32 тысячи наблюдений, каждое из которых характеризуется уникальным `match_id_hash` (захэшированное id матча), и 245 признаков. `game_time` показывает момент времени, в который получены эти данные. То есть по сути это не длительность самого матча, а например, его середина, таким образом, в итоге мы сможем получить модель, которая будет предсказывать вероятность победы каждой из команд в течение матча (хорошо подходит для букмекеров)."
   ]
  },
  {
   "cell_type": "markdown",
   "metadata": {
    "papermill": {
     "duration": 0.043619,
     "end_time": "2022-02-13T23:28:26.350788",
     "exception": false,
     "start_time": "2022-02-13T23:28:26.307169",
     "status": "completed"
    },
    "tags": []
   },
   "source": [
    "Нас интересует поле `radiant_win` (так называется одна из команд, вторая - dire). Остальные колоки здесь по сути получены из \"будущего\" и есть только для тренировочных данных, поэтому на них можно просто посмотреть)."
   ]
  },
  {
   "cell_type": "code",
   "execution_count": null,
   "metadata": {
    "execution": {
     "iopub.execute_input": "2022-04-03T14:07:38.530267Z",
     "iopub.status.busy": "2022-04-03T14:07:38.529683Z",
     "iopub.status.idle": "2022-04-03T14:07:38.541593Z",
     "shell.execute_reply": "2022-04-03T14:07:38.540652Z",
     "shell.execute_reply.started": "2022-04-03T14:07:38.530233Z"
    },
    "papermill": {
     "duration": 0.059594,
     "end_time": "2022-02-13T23:28:26.454584",
     "exception": false,
     "start_time": "2022-02-13T23:28:26.39499",
     "status": "completed"
    },
    "tags": []
   },
   "outputs": [],
   "source": [
    "df_train_targets.head()"
   ]
  },
  {
   "cell_type": "markdown",
   "metadata": {},
   "source": [
    "<span style=\"color:purple\">Можем сказать, что наш тренировочный датасет сбалансирован, поскольку у нас примерно равное количество матчей, в которых radiant выиграл или проиграл, и значит, у нас нет дисбаланса классов</span>"
   ]
  },
  {
   "cell_type": "code",
   "execution_count": null,
   "metadata": {
    "execution": {
     "iopub.execute_input": "2022-04-03T14:07:42.359421Z",
     "iopub.status.busy": "2022-04-03T14:07:42.359125Z",
     "iopub.status.idle": "2022-04-03T14:07:42.370586Z",
     "shell.execute_reply": "2022-04-03T14:07:42.369714Z",
     "shell.execute_reply.started": "2022-04-03T14:07:42.359389Z"
    }
   },
   "outputs": [],
   "source": [
    "df_train_targets[\"radiant_win\"].value_counts()"
   ]
  },
  {
   "cell_type": "markdown",
   "metadata": {
    "papermill": {
     "duration": 0.046788,
     "end_time": "2022-02-13T23:28:26.547845",
     "exception": false,
     "start_time": "2022-02-13T23:28:26.501057",
     "status": "completed"
    },
    "tags": []
   },
   "source": [
    "## <left>Наша первая модель"
   ]
  },
  {
   "cell_type": "code",
   "execution_count": null,
   "metadata": {
    "execution": {
     "iopub.execute_input": "2022-04-03T14:07:50.429718Z",
     "iopub.status.busy": "2022-04-03T14:07:50.429456Z",
     "iopub.status.idle": "2022-04-03T14:07:50.457366Z",
     "shell.execute_reply": "2022-04-03T14:07:50.456466Z",
     "shell.execute_reply.started": "2022-04-03T14:07:50.429687Z"
    },
    "papermill": {
     "duration": 0.078234,
     "end_time": "2022-02-13T23:28:26.672769",
     "exception": false,
     "start_time": "2022-02-13T23:28:26.594535",
     "status": "completed"
    },
    "tags": []
   },
   "outputs": [],
   "source": [
    "X = df_train_features.values\n",
    "y = df_train_targets[\"radiant_win\"].values.astype(\"int8\")"
   ]
  },
  {
   "cell_type": "code",
   "execution_count": null,
   "metadata": {
    "execution": {
     "iopub.execute_input": "2022-04-03T14:07:55.585109Z",
     "iopub.status.busy": "2022-04-03T14:07:55.584788Z",
     "iopub.status.idle": "2022-04-03T14:07:55.682086Z",
     "shell.execute_reply": "2022-04-03T14:07:55.681108Z",
     "shell.execute_reply.started": "2022-04-03T14:07:55.585077Z"
    },
    "papermill": {
     "duration": 0.152481,
     "end_time": "2022-02-13T23:28:26.871414",
     "exception": false,
     "start_time": "2022-02-13T23:28:26.718933",
     "status": "completed"
    },
    "tags": []
   },
   "outputs": [],
   "source": [
    "X_train, X_valid, y_train, y_valid = train_test_split(X, y, \n",
    "                                                      test_size=0.3, \n",
    "                                                      random_state=SEED)"
   ]
  },
  {
   "cell_type": "markdown",
   "metadata": {
    "papermill": {
     "duration": 0.04485,
     "end_time": "2022-02-13T23:28:26.961156",
     "exception": false,
     "start_time": "2022-02-13T23:28:26.916306",
     "status": "completed"
    },
    "tags": []
   },
   "source": [
    "#### Обучим случайный лес"
   ]
  },
  {
   "cell_type": "code",
   "execution_count": null,
   "metadata": {
    "execution": {
     "iopub.execute_input": "2022-04-03T14:07:58.851194Z",
     "iopub.status.busy": "2022-04-03T14:07:58.850902Z",
     "iopub.status.idle": "2022-04-03T14:08:07.036079Z",
     "shell.execute_reply": "2022-04-03T14:08:07.035079Z",
     "shell.execute_reply.started": "2022-04-03T14:07:58.851144Z"
    },
    "papermill": {
     "duration": 9.067224,
     "end_time": "2022-02-13T23:28:36.073116",
     "exception": false,
     "start_time": "2022-02-13T23:28:27.005892",
     "status": "completed"
    },
    "tags": []
   },
   "outputs": [],
   "source": [
    "%%time\n",
    "rf_model = RandomForestClassifier(n_estimators=300, max_depth=7, n_jobs=-1, random_state=SEED)\n",
    "rf_model.fit(X_train, y_train)"
   ]
  },
  {
   "cell_type": "markdown",
   "metadata": {
    "papermill": {
     "duration": 0.045583,
     "end_time": "2022-02-13T23:28:36.165966",
     "exception": false,
     "start_time": "2022-02-13T23:28:36.120383",
     "status": "completed"
    },
    "tags": []
   },
   "source": [
    "#### Сделаем предсказания и оценим качество на отложенной части данных"
   ]
  },
  {
   "cell_type": "code",
   "execution_count": null,
   "metadata": {
    "execution": {
     "iopub.execute_input": "2022-04-03T14:08:10.428416Z",
     "iopub.status.busy": "2022-04-03T14:08:10.427747Z",
     "iopub.status.idle": "2022-04-03T14:08:10.741015Z",
     "shell.execute_reply": "2022-04-03T14:08:10.740028Z",
     "shell.execute_reply.started": "2022-04-03T14:08:10.428379Z"
    },
    "papermill": {
     "duration": 0.362593,
     "end_time": "2022-02-13T23:28:36.574368",
     "exception": false,
     "start_time": "2022-02-13T23:28:36.211775",
     "status": "completed"
    },
    "tags": []
   },
   "outputs": [],
   "source": [
    "y_pred = rf_model.predict_proba(X_valid)[:, 1]"
   ]
  },
  {
   "cell_type": "code",
   "execution_count": null,
   "metadata": {
    "execution": {
     "iopub.execute_input": "2022-04-03T14:08:14.658822Z",
     "iopub.status.busy": "2022-04-03T14:08:14.658523Z",
     "iopub.status.idle": "2022-04-03T14:08:14.669109Z",
     "shell.execute_reply": "2022-04-03T14:08:14.668189Z",
     "shell.execute_reply.started": "2022-04-03T14:08:14.658793Z"
    },
    "papermill": {
     "duration": 0.060422,
     "end_time": "2022-02-13T23:28:36.680786",
     "exception": false,
     "start_time": "2022-02-13T23:28:36.620364",
     "status": "completed"
    },
    "tags": []
   },
   "outputs": [],
   "source": [
    "valid_score = roc_auc_score(y_valid, y_pred)\n",
    "print(\"ROC-AUC score на отложенной части:\", valid_score)"
   ]
  },
  {
   "cell_type": "markdown",
   "metadata": {
    "papermill": {
     "duration": 0.045999,
     "end_time": "2022-02-13T23:28:36.773926",
     "exception": false,
     "start_time": "2022-02-13T23:28:36.727927",
     "status": "completed"
    },
    "tags": []
   },
   "source": [
    "Посмотрим на accuracy:"
   ]
  },
  {
   "cell_type": "code",
   "execution_count": null,
   "metadata": {
    "execution": {
     "iopub.execute_input": "2022-04-03T14:08:24.601002Z",
     "iopub.status.busy": "2022-04-03T14:08:24.600303Z",
     "iopub.status.idle": "2022-04-03T14:08:24.607295Z",
     "shell.execute_reply": "2022-04-03T14:08:24.606689Z",
     "shell.execute_reply.started": "2022-04-03T14:08:24.600957Z"
    },
    "papermill": {
     "duration": 0.057673,
     "end_time": "2022-02-13T23:28:36.877714",
     "exception": false,
     "start_time": "2022-02-13T23:28:36.820041",
     "status": "completed"
    },
    "tags": []
   },
   "outputs": [],
   "source": [
    "valid_accuracy = accuracy_score(y_valid, y_pred > 0.5)\n",
    "print(\"Accuracy score (p > 0.5) на отложенной части:\", valid_accuracy)"
   ]
  },
  {
   "cell_type": "markdown",
   "metadata": {
    "papermill": {
     "duration": 0.046122,
     "end_time": "2022-02-13T23:28:37.825794",
     "exception": false,
     "start_time": "2022-02-13T23:28:37.779672",
     "status": "completed"
    },
    "tags": []
   },
   "source": [
    "## <left>Кросс-валидация"
   ]
  },
  {
   "cell_type": "markdown",
   "metadata": {
    "papermill": {
     "duration": 0.047147,
     "end_time": "2022-02-13T23:28:37.919675",
     "exception": false,
     "start_time": "2022-02-13T23:28:37.872528",
     "status": "completed"
    },
    "tags": []
   },
   "source": [
    "Во многих случаях кросс-валидация оказывается лучше простого разбиения на test и train. Воспользуемся `ShuffleSplit` чтобы создать 5 70%/30% наборов данных."
   ]
  },
  {
   "cell_type": "code",
   "execution_count": null,
   "metadata": {
    "execution": {
     "iopub.execute_input": "2022-04-03T14:08:29.499299Z",
     "iopub.status.busy": "2022-04-03T14:08:29.498605Z",
     "iopub.status.idle": "2022-04-03T14:08:29.503542Z",
     "shell.execute_reply": "2022-04-03T14:08:29.502531Z",
     "shell.execute_reply.started": "2022-04-03T14:08:29.499258Z"
    },
    "papermill": {
     "duration": 0.054303,
     "end_time": "2022-02-13T23:28:38.021177",
     "exception": false,
     "start_time": "2022-02-13T23:28:37.966874",
     "status": "completed"
    },
    "tags": []
   },
   "outputs": [],
   "source": [
    "cv = ShuffleSplit(n_splits=5, test_size=0.3, random_state=SEED)"
   ]
  },
  {
   "cell_type": "code",
   "execution_count": null,
   "metadata": {
    "execution": {
     "iopub.execute_input": "2022-04-03T14:08:37.180312Z",
     "iopub.status.busy": "2022-04-03T14:08:37.180035Z",
     "iopub.status.idle": "2022-04-03T14:09:26.143479Z",
     "shell.execute_reply": "2022-04-03T14:09:26.142578Z",
     "shell.execute_reply.started": "2022-04-03T14:08:37.180283Z"
    },
    "papermill": {
     "duration": 54.652614,
     "end_time": "2022-02-13T23:29:32.721125",
     "exception": false,
     "start_time": "2022-02-13T23:28:38.068511",
     "status": "completed"
    },
    "tags": []
   },
   "outputs": [],
   "source": [
    "%%time\n",
    "rf_model = RandomForestClassifier(n_estimators=300, max_depth=7, n_jobs=-1, random_state=SEED)\n",
    "cv_scores_rf = cross_val_score(rf_model, X, y, cv=cv, scoring=\"roc_auc\")"
   ]
  },
  {
   "cell_type": "code",
   "execution_count": null,
   "metadata": {
    "execution": {
     "iopub.execute_input": "2022-04-03T14:09:32.510896Z",
     "iopub.status.busy": "2022-04-03T14:09:32.51059Z",
     "iopub.status.idle": "2022-04-03T14:09:32.516232Z",
     "shell.execute_reply": "2022-04-03T14:09:32.515479Z",
     "shell.execute_reply.started": "2022-04-03T14:09:32.510859Z"
    },
    "papermill": {
     "duration": 0.056776,
     "end_time": "2022-02-13T23:29:32.928669",
     "exception": false,
     "start_time": "2022-02-13T23:29:32.871893",
     "status": "completed"
    },
    "tags": []
   },
   "outputs": [],
   "source": [
    "print(f\"Среднее значение ROC-AUC на кросс-валидации: {cv_scores_rf.mean()}\")"
   ]
  },
  {
   "cell_type": "markdown",
   "metadata": {},
   "source": [
    "## <span style=\"color:purple\">Catboost</span>"
   ]
  },
  {
   "cell_type": "markdown",
   "metadata": {},
   "source": [
    "<span style=\"color:purple\">Воспользуемся *catboost*, отлично показавшим себя на одной из последних лекций:</span>"
   ]
  },
  {
   "cell_type": "code",
   "execution_count": null,
   "metadata": {
    "execution": {
     "iopub.execute_input": "2022-04-03T14:09:36.806553Z",
     "iopub.status.busy": "2022-04-03T14:09:36.806137Z",
     "iopub.status.idle": "2022-04-03T14:09:36.815357Z",
     "shell.execute_reply": "2022-04-03T14:09:36.814564Z",
     "shell.execute_reply.started": "2022-04-03T14:09:36.806522Z"
    }
   },
   "outputs": [],
   "source": [
    "cat = catboost.CatBoostRegressor(iterations=200, learning_rate=0.1, depth=6, random_state=SEED, min_data_in_leaf=7, verbose=0)"
   ]
  },
  {
   "cell_type": "code",
   "execution_count": null,
   "metadata": {
    "execution": {
     "iopub.execute_input": "2022-04-03T14:09:39.696479Z",
     "iopub.status.busy": "2022-04-03T14:09:39.695824Z",
     "iopub.status.idle": "2022-04-03T14:09:46.7506Z",
     "shell.execute_reply": "2022-04-03T14:09:46.749754Z",
     "shell.execute_reply.started": "2022-04-03T14:09:39.696431Z"
    }
   },
   "outputs": [],
   "source": [
    "%%time\n",
    "cat.fit(X_train, y_train)"
   ]
  },
  {
   "cell_type": "code",
   "execution_count": null,
   "metadata": {
    "execution": {
     "iopub.execute_input": "2022-04-03T14:09:49.978108Z",
     "iopub.status.busy": "2022-04-03T14:09:49.977573Z",
     "iopub.status.idle": "2022-04-03T14:09:50.904481Z",
     "shell.execute_reply": "2022-04-03T14:09:50.903817Z",
     "shell.execute_reply.started": "2022-04-03T14:09:49.978074Z"
    }
   },
   "outputs": [],
   "source": [
    "y_pred = cat.predict(X_valid)"
   ]
  },
  {
   "cell_type": "code",
   "execution_count": null,
   "metadata": {
    "execution": {
     "iopub.execute_input": "2022-04-03T14:09:54.679747Z",
     "iopub.status.busy": "2022-04-03T14:09:54.679437Z",
     "iopub.status.idle": "2022-04-03T14:09:54.691376Z",
     "shell.execute_reply": "2022-04-03T14:09:54.690353Z",
     "shell.execute_reply.started": "2022-04-03T14:09:54.679716Z"
    }
   },
   "outputs": [],
   "source": [
    "cat_valid_score = roc_auc_score(y_valid, y_pred)\n",
    "print(\"ROC-AUC score на отложенной части:\", cat_valid_score)"
   ]
  },
  {
   "cell_type": "code",
   "execution_count": null,
   "metadata": {
    "execution": {
     "iopub.execute_input": "2022-04-03T14:09:57.85421Z",
     "iopub.status.busy": "2022-04-03T14:09:57.853938Z",
     "iopub.status.idle": "2022-04-03T14:09:57.860065Z",
     "shell.execute_reply": "2022-04-03T14:09:57.859267Z",
     "shell.execute_reply.started": "2022-04-03T14:09:57.854183Z"
    }
   },
   "outputs": [],
   "source": [
    "cat_valid_accuracy = accuracy_score(y_valid, y_pred > 0.5)\n",
    "print(\"Accuracy score (p > 0.5) на отложенной части:\", cat_valid_accuracy)"
   ]
  },
  {
   "cell_type": "markdown",
   "metadata": {},
   "source": [
    "<span style=\"color:purple\">При использовании catboost значения ROC-AUC и accuracy score были чуть лучше, чем при использовании описанного выше базового леса. Воспользуемся кросс-валидацией:</span>"
   ]
  },
  {
   "cell_type": "code",
   "execution_count": null,
   "metadata": {
    "execution": {
     "iopub.execute_input": "2022-04-03T14:10:02.148444Z",
     "iopub.status.busy": "2022-04-03T14:10:02.148154Z",
     "iopub.status.idle": "2022-04-03T14:10:43.050486Z",
     "shell.execute_reply": "2022-04-03T14:10:43.049758Z",
     "shell.execute_reply.started": "2022-04-03T14:10:02.148414Z"
    }
   },
   "outputs": [],
   "source": [
    "%%time\n",
    "cat = catboost.CatBoostRegressor(iterations=200, learning_rate=0.1, depth=6, random_state=SEED, min_data_in_leaf=7, verbose=0)\n",
    "cv_scores_rf = cross_val_score(cat, X, y, cv=cv, scoring=\"roc_auc\")"
   ]
  },
  {
   "cell_type": "code",
   "execution_count": null,
   "metadata": {
    "execution": {
     "iopub.execute_input": "2022-04-03T14:10:48.766998Z",
     "iopub.status.busy": "2022-04-03T14:10:48.766458Z",
     "iopub.status.idle": "2022-04-03T14:10:48.772081Z",
     "shell.execute_reply": "2022-04-03T14:10:48.771151Z",
     "shell.execute_reply.started": "2022-04-03T14:10:48.766952Z"
    }
   },
   "outputs": [],
   "source": [
    "print(f\"Среднее значение ROC-AUC на кросс-валидации: {cv_scores_rf.mean()}\")"
   ]
  },
  {
   "cell_type": "markdown",
   "metadata": {},
   "source": [
    "<span style=\"color:purple\">При использовании catboost и кросс-валидации среднее значение ROC-AUC опять же было чуть лучше, чем у нашего базового леса и catboost, обученного на разбиении тренировочных данных. Попробуем подобрать параметры для нашей модели с помощью `GridSearchCV`</span>"
   ]
  },
  {
   "cell_type": "code",
   "execution_count": null,
   "metadata": {
    "execution": {
     "iopub.execute_input": "2022-04-02T19:01:33.190819Z",
     "iopub.status.busy": "2022-04-02T19:01:33.190073Z",
     "iopub.status.idle": "2022-04-02T19:01:33.197245Z",
     "shell.execute_reply": "2022-04-02T19:01:33.196235Z",
     "shell.execute_reply.started": "2022-04-02T19:01:33.190773Z"
    }
   },
   "outputs": [],
   "source": [
    "cat = catboost.CatBoostRegressor(random_state=42, verbose=0, learning_rate=0.1)\n",
    "param = {\"iterations\" : range(50, 250, 50), \"depth\" : range(5, 11), \"min_data_in_leaf\" : range(5, 11)}\n",
    "grid_search = GridSearchCV(cat, param, cv=cv, scoring=\"roc_auc\")"
   ]
  },
  {
   "cell_type": "code",
   "execution_count": null,
   "metadata": {
    "execution": {
     "iopub.execute_input": "2022-04-02T19:01:42.281089Z",
     "iopub.status.busy": "2022-04-02T19:01:42.280752Z",
     "iopub.status.idle": "2022-04-02T21:05:29.815931Z",
     "shell.execute_reply": "2022-04-02T21:05:29.813967Z",
     "shell.execute_reply.started": "2022-04-02T19:01:42.281055Z"
    }
   },
   "outputs": [],
   "source": [
    "grid_search.fit(X_train, y_train)"
   ]
  },
  {
   "cell_type": "markdown",
   "metadata": {},
   "source": [
    "<span style=\"color:purple\">Когда запустила grid_search с iterations = 3000 и learning_rate = 0.05:</span>"
   ]
  },
  {
   "cell_type": "markdown",
   "metadata": {},
   "source": [
    "<img src =\"https://miro.medium.com/max/1400/1*owTKhjo8cf85piCC4sqLoQ.jpeg\" width=\"640\" length=\"426\">"
   ]
  },
  {
   "cell_type": "code",
   "execution_count": null,
   "metadata": {
    "execution": {
     "iopub.execute_input": "2022-04-02T21:13:54.332193Z",
     "iopub.status.busy": "2022-04-02T21:13:54.331729Z",
     "iopub.status.idle": "2022-04-02T21:13:54.343852Z",
     "shell.execute_reply": "2022-04-02T21:13:54.342917Z",
     "shell.execute_reply.started": "2022-04-02T21:13:54.332115Z"
    }
   },
   "outputs": [],
   "source": [
    "grid_search.best_params_"
   ]
  },
  {
   "cell_type": "code",
   "execution_count": null,
   "metadata": {
    "execution": {
     "iopub.execute_input": "2022-04-02T21:16:40.541439Z",
     "iopub.status.busy": "2022-04-02T21:16:40.540499Z",
     "iopub.status.idle": "2022-04-02T21:16:41.545371Z",
     "shell.execute_reply": "2022-04-02T21:16:41.544238Z",
     "shell.execute_reply.started": "2022-04-02T21:16:40.541383Z"
    }
   },
   "outputs": [],
   "source": [
    "best_cat = grid_search.best_estimator_\n",
    "y_pred = best_cat.predict(X_valid)"
   ]
  },
  {
   "cell_type": "code",
   "execution_count": null,
   "metadata": {
    "execution": {
     "iopub.execute_input": "2022-04-02T21:16:58.840142Z",
     "iopub.status.busy": "2022-04-02T21:16:58.83967Z",
     "iopub.status.idle": "2022-04-02T21:16:58.852978Z",
     "shell.execute_reply": "2022-04-02T21:16:58.85208Z",
     "shell.execute_reply.started": "2022-04-02T21:16:58.840108Z"
    }
   },
   "outputs": [],
   "source": [
    "cat_valid_score = roc_auc_score(y_valid, y_pred)\n",
    "print(\"ROC-AUC score на отложенной части:\", cat_valid_score)"
   ]
  },
  {
   "cell_type": "markdown",
   "metadata": {},
   "source": [
    "<span style=\"color:purple\">Я не стала перезапускать еще раз (считалось примерно 3,5 часа). И странно, что у меня величина ROC-AUC с лучшими параметрами модели получилась меньше той, что была без подбора параметров</span>."
   ]
  },
  {
   "cell_type": "markdown",
   "metadata": {},
   "source": [
    "## <span style=\"color:purple\">Stacking</span>"
   ]
  },
  {
   "cell_type": "markdown",
   "metadata": {},
   "source": [
    "<span style=\"color:purple\">Попробуем разобраться со стекингом и рассмотрим несколько моделей. Воспользуемся [примером стекинга](https://github.com/Dyakonov/ml_hacks/blob/master/dj_stacking.ipynb), который давали на лекции:</span>"
   ]
  },
  {
   "cell_type": "markdown",
   "metadata": {},
   "source": [
    "<span style=\"color:purple\">Авторская реализация стекинга:</span>"
   ]
  },
  {
   "cell_type": "code",
   "execution_count": null,
   "metadata": {
    "execution": {
     "iopub.execute_input": "2022-04-03T14:11:36.784255Z",
     "iopub.status.busy": "2022-04-03T14:11:36.783464Z",
     "iopub.status.idle": "2022-04-03T14:11:36.800224Z",
     "shell.execute_reply": "2022-04-03T14:11:36.799188Z",
     "shell.execute_reply.started": "2022-04-03T14:11:36.784214Z"
    }
   },
   "outputs": [],
   "source": [
    "class DjStacking(BaseEstimator, ClassifierMixin):  \n",
    "    \"\"\"Стэкинг моделей scikit-learn\"\"\"\n",
    "\n",
    "    def __init__(self, models, ens_model):\n",
    "        \"\"\"\n",
    "        Инициализация\n",
    "        models - базовые модели для стекинга\n",
    "        ens_model - мета-модель\n",
    "        \"\"\"\n",
    "        self.models = models\n",
    "        self.ens_model = ens_model\n",
    "        self.n = len(models)\n",
    "        self.valid = None\n",
    "        \n",
    "    def fit(self, X, y=None, p=0.3, cv=5, err=0.001, random_state=None):\n",
    "        \"\"\"\n",
    "        Обучение стекинга\n",
    "        p - в каком отношении делить на обучение / тест\n",
    "            если p = 0 - используем всё обучение!\n",
    "        cv  (при p=0) - сколько фолдов использовать\n",
    "        err (при p=0) - величина случайной добавки к метапризнакам\n",
    "        random_state - инициализация генератора\n",
    "            \n",
    "        \"\"\"\n",
    "        if (p > 0): # делим на обучение и тест\n",
    "            # разбиение на обучение моделей и метамодели\n",
    "            train, valid, y_train, y_valid = train_test_split(X, y, test_size=p, random_state=random_state)\n",
    "            \n",
    "            # заполнение матрицы для обучения метамодели\n",
    "            self.valid = np.zeros((valid.shape[0], self.n))\n",
    "            for t, clf in enumerate(self.models):\n",
    "                clf.fit(train, y_train)\n",
    "                self.valid[:, t] = clf.predict(valid)\n",
    "                \n",
    "            # обучение метамодели\n",
    "            self.ens_model.fit(self.valid, y_valid)\n",
    "            \n",
    "        else: # используем всё обучение\n",
    "            \n",
    "            # для регуляризации - берём случайные добавки\n",
    "            self.valid = err*np.random.randn(X.shape[0], self.n)\n",
    "            \n",
    "            for t, clf in enumerate(self.models):\n",
    "                # это oob-ответы алгоритмов\n",
    "                self.valid[:, t] += cross_val_predict(clf, X, y, cv=cv, n_jobs=-1, method='predict')\n",
    "                # но сам алгоритм надо настроить\n",
    "                clf.fit(X, y)\n",
    "            \n",
    "            # обучение метамодели\n",
    "            self.ens_model.fit(self.valid, y)  \n",
    "            \n",
    "\n",
    "        return self\n",
    "    \n",
    "\n",
    "\n",
    "    def predict(self, X, y=None):\n",
    "        \"\"\"\n",
    "        Работа стэкинга\n",
    "        \"\"\"\n",
    "        # заполение матрицы для мета-классификатора\n",
    "        X_meta = np.zeros((X.shape[0], self.n))\n",
    "        \n",
    "        for t, clf in enumerate(self.models):\n",
    "            X_meta[:, t] = clf.predict(X)\n",
    "        \n",
    "        a = self.ens_model.predict(X_meta)\n",
    "        \n",
    "        return (a)"
   ]
  },
  {
   "cell_type": "markdown",
   "metadata": {},
   "source": [
    "<span style=\"color:purple\">Создание и обучение классификаторов:</span>"
   ]
  },
  {
   "cell_type": "code",
   "execution_count": null,
   "metadata": {
    "execution": {
     "iopub.execute_input": "2022-04-03T14:11:48.879204Z",
     "iopub.status.busy": "2022-04-03T14:11:48.87892Z",
     "iopub.status.idle": "2022-04-03T14:11:48.884612Z",
     "shell.execute_reply": "2022-04-03T14:11:48.883993Z",
     "shell.execute_reply.started": "2022-04-03T14:11:48.879176Z"
    }
   },
   "outputs": [],
   "source": [
    "def run(clf, X, y, label):\n",
    "    a = clf.predict(X)  \n",
    "    print (label + ' AUC-ROC  = ' + str( roc_auc_score(y, a) ))"
   ]
  },
  {
   "cell_type": "markdown",
   "metadata": {},
   "source": [
    "<span style=\"color:purple\">Базовые классификаторы (также была идея подобрать оптимальные параметры для каждой базовой модели, но мне не хватило времени, и я не знаю, улучшается ли качество конечной модели при улучшении ее \"компонентов\" подбором параметров. Я предполагаю, что должно. Но это увеличивает время работы самого алгоритма: я просто вручную поставила параметры побольше и у меня kaggle задумался на 2 часа и так и не выдал результат):</span>"
   ]
  },
  {
   "cell_type": "code",
   "execution_count": null,
   "metadata": {
    "execution": {
     "iopub.execute_input": "2022-04-03T14:12:07.910314Z",
     "iopub.status.busy": "2022-04-03T14:12:07.910037Z",
     "iopub.status.idle": "2022-04-03T14:14:59.78082Z",
     "shell.execute_reply": "2022-04-03T14:14:59.779864Z",
     "shell.execute_reply.started": "2022-04-03T14:12:07.910285Z"
    }
   },
   "outputs": [],
   "source": [
    "knn1 = KNeighborsRegressor(n_neighbors=3)\n",
    "knn1.fit(X_train, y_train)\n",
    "run(knn1, X_valid, y_valid, '3NN')\n",
    "\n",
    "knn2 = KNeighborsRegressor(n_neighbors=10)\n",
    "knn2.fit(X_train, y_train)\n",
    "run(knn2, X_valid, y_valid, '10NN')\n",
    "\n",
    "rg0 = Ridge(alpha=0.01)\n",
    "rg0.fit(X_train, y_train)\n",
    "run(rg0, X_valid, y_valid, 'ridge-0.01')\n",
    "\n",
    "rg1 = Ridge(alpha=1.1)\n",
    "rg1.fit(X_train, y_train)\n",
    "run(rg1, X_valid, y_valid, 'ridge-1.1')\n",
    "\n",
    "rg2 = Ridge(alpha=100.1)\n",
    "rg2.fit(X_train, y_train)\n",
    "run(rg2, X_valid, y_valid, 'ridge-100.1')\n",
    "\n",
    "rf1 = RandomForestRegressor(n_estimators=100, max_depth=2)\n",
    "rf1.fit(X_train, y_train)\n",
    "run(rf1, X_valid, y_valid, 'rf-d2')\n",
    "\n",
    "rf2 = RandomForestRegressor(n_estimators=100, max_depth=5)\n",
    "rf2.fit(X_train, y_train)\n",
    "run(rf2, X_valid, y_valid, 'rf-d5')\n",
    "\n",
    "gbm1 = lgb.LGBMRegressor(boosting_type='gbdt', learning_rate=0.05, max_depth=2, n_estimators=200, n_jobs=-1, objective='regression')    \n",
    "gbm1.fit(X_train, y_train)\n",
    "run(gbm1, X_valid, y_valid, 'gbm-d2')\n",
    "\n",
    "gbm2 = lgb.LGBMRegressor(boosting_type='gbdt', learning_rate=0.05, max_depth=5, n_estimators=200, n_jobs=-1, objective='regression')    \n",
    "gbm2.fit(X_train, y_train)\n",
    "run(gbm2, X_valid, y_valid, 'gbm-d5')\n",
    "\n",
    "xgb1 = xgboost.XGBRegressor(n_estimators = 200, max_depth = 2, learning_rate = 0.05, random_state=SEED)\n",
    "xgb1.fit(X_train, y_train)\n",
    "run(xgb1, X_valid, y_valid, 'xgb-d2')\n",
    "\n",
    "xgb2 = xgboost.XGBRegressor(n_estimators = 200, max_depth = 5,  learning_rate = 0.05, random_state=SEED)\n",
    "xgb2.fit(X_train, y_train)\n",
    "run(xgb2, X_valid, y_valid, 'xgb-d5')\n",
    "\n",
    "catb1 = catboost.CatBoostRegressor(iterations=200, learning_rate=0.05, depth=2, random_state=SEED, min_data_in_leaf=7, verbose=0)\n",
    "catb1.fit(X_train, y_train)\n",
    "run(catb1, X_valid, y_valid, 'cb-d2')\n",
    "\n",
    "catb2 = catboost.CatBoostRegressor(iterations=200, learning_rate=0.05, depth=5, random_state=SEED, min_data_in_leaf=7, verbose=0)\n",
    "catb2.fit(X_train, y_train)\n",
    "run(catb2, X_valid, y_valid, 'cb-d5')"
   ]
  },
  {
   "cell_type": "markdown",
   "metadata": {},
   "source": [
    "<span style=\"color:purple\">Запускаем блендинг и стекинг:</span>"
   ]
  },
  {
   "cell_type": "code",
   "execution_count": null,
   "metadata": {
    "execution": {
     "iopub.execute_input": "2022-04-03T14:15:39.721333Z",
     "iopub.status.busy": "2022-04-03T14:15:39.721035Z",
     "iopub.status.idle": "2022-04-03T14:32:00.094732Z",
     "shell.execute_reply": "2022-04-03T14:32:00.089142Z",
     "shell.execute_reply.started": "2022-04-03T14:15:39.721302Z"
    }
   },
   "outputs": [],
   "source": [
    "models = [knn1, knn2, rg1, rg2, rf1, rf2, gbm1, gbm2, xgb1, xgb2, catb1, catb2]\n",
    "ens_model = Ridge()\n",
    "s1 = DjStacking(models, ens_model)\n",
    "s1.fit(X_train, y_train)\n",
    "run(s1, X_valid, y_valid, '1-stacking')\n",
    "s2 = DjStacking(models, ens_model)\n",
    "s2.fit(X_train, y_train, p=-1)\n",
    "run(s2, X_valid, y_valid, '2-stacking')"
   ]
  },
  {
   "cell_type": "markdown",
   "metadata": {},
   "source": [
    "<span style=\"color:purple\">Получаем результат лучше, чем у базовых моделей</span>"
   ]
  },
  {
   "cell_type": "markdown",
   "metadata": {},
   "source": [
    "<span style=\"color:purple\">Несколько блендингов подряд:</span>"
   ]
  },
  {
   "cell_type": "code",
   "execution_count": null,
   "metadata": {
    "execution": {
     "iopub.execute_input": "2022-04-03T17:24:48.196094Z",
     "iopub.status.busy": "2022-04-03T17:24:48.195797Z",
     "iopub.status.idle": "2022-04-03T17:46:20.774723Z",
     "shell.execute_reply": "2022-04-03T17:46:20.770269Z",
     "shell.execute_reply.started": "2022-04-03T17:24:48.196057Z"
    }
   },
   "outputs": [],
   "source": [
    "ens_model = Ridge(0.001)\n",
    "s1 = DjStacking(models, ens_model)\n",
    "a = 0\n",
    "for t in range(10):\n",
    "    s1.fit(X_train, y_train, p=0.3)\n",
    "    a += s1.predict(X_valid, y_train)\n",
    "    \n",
    "    auc = roc_auc_score(y_valid, a)\n",
    "    print(auc)"
   ]
  },
  {
   "cell_type": "markdown",
   "metadata": {},
   "source": [
    "<span style=\"color:purple\">В примере предлагали варьировать число фолдов, но у меня считалось долго и качество предсказания по ROC-AUC не улучшилось:</span>"
   ]
  },
  {
   "cell_type": "code",
   "execution_count": null,
   "metadata": {},
   "outputs": [],
   "source": [
    "ens_model = Ridge(0.001)\n",
    "\n",
    "s1 = DjStacking(models, ens_model)\n",
    "a = 0\n",
    "for t in range(2, 11):\n",
    "    s1.fit(X_train, y_train, p=-1, cv=t, err=0.001)\n",
    "    a = s1.predict(X_valid, y_train)\n",
    "    auc = roc_auc_score(y_valid, a)\n",
    "    print(auc)"
   ]
  },
  {
   "cell_type": "markdown",
   "metadata": {
    "papermill": {
     "duration": 0.04757,
     "end_time": "2022-02-13T23:29:33.025145",
     "exception": false,
     "start_time": "2022-02-13T23:29:32.977575",
     "status": "completed"
    },
    "tags": []
   },
   "source": [
    "## <left>Что есть в json файлах?"
   ]
  },
  {
   "cell_type": "markdown",
   "metadata": {
    "papermill": {
     "duration": 0.048776,
     "end_time": "2022-02-13T23:29:33.122475",
     "exception": false,
     "start_time": "2022-02-13T23:29:33.073699",
     "status": "completed"
    },
    "tags": []
   },
   "source": [
    "Описание сырых данных можно найти в `train_matches.jsonl` и `test_matches.jsonl`. Каждый файл содержит одну запись для каждого матча в [JSON](https://en.wikipedia.org/wiki/JSON) формате. Его легко превратить в питоновский объект при помощи метода `json.loads`."
   ]
  },
  {
   "cell_type": "code",
   "execution_count": null,
   "metadata": {
    "execution": {
     "iopub.execute_input": "2022-04-03T15:18:16.219849Z",
     "iopub.status.busy": "2022-04-03T15:18:16.219515Z",
     "iopub.status.idle": "2022-04-03T15:18:16.614095Z",
     "shell.execute_reply": "2022-04-03T15:18:16.613164Z",
     "shell.execute_reply.started": "2022-04-03T15:18:16.219809Z"
    },
    "papermill": {
     "duration": 0.514659,
     "end_time": "2022-02-13T23:29:33.685074",
     "exception": false,
     "start_time": "2022-02-13T23:29:33.170415",
     "status": "completed"
    },
    "tags": []
   },
   "outputs": [],
   "source": [
    "with open(\"../input/new-dataset/train_raw_data.jsonl\") as fin:\n",
    "    # прочтем 419 строку\n",
    "    for i in range(419):\n",
    "        line = fin.readline()\n",
    "    \n",
    "    # переведем JSON в питоновский словарь \n",
    "    match = json.loads(line)"
   ]
  },
  {
   "cell_type": "markdown",
   "metadata": {},
   "source": [
    "<span style=\"color:purple\">Когда решила посмотреть, а что там в match:</span>"
   ]
  },
  {
   "cell_type": "markdown",
   "metadata": {},
   "source": [
    "<img src =\"https://cs8.pikabu.ru/post_img/big/2016/10/30/9/147783766317230953.jpg\" width=\"700\" length=\"350\">"
   ]
  },
  {
   "cell_type": "code",
   "execution_count": null,
   "metadata": {},
   "outputs": [],
   "source": [
    "match"
   ]
  },
  {
   "cell_type": "markdown",
   "metadata": {},
   "source": [
    "<span style=\"color:purple\">Мы можем узнать различную информацию для 9 игрока в этом матче, в частности, число убийств, смертей и помощи:</span>"
   ]
  },
  {
   "cell_type": "code",
   "execution_count": null,
   "metadata": {
    "execution": {
     "iopub.execute_input": "2022-04-03T17:24:24.208437Z",
     "iopub.status.busy": "2022-04-03T17:24:24.208055Z",
     "iopub.status.idle": "2022-04-03T17:24:24.216053Z",
     "shell.execute_reply": "2022-04-03T17:24:24.215089Z",
     "shell.execute_reply.started": "2022-04-03T17:24:24.2084Z"
    },
    "papermill": {
     "duration": 0.057975,
     "end_time": "2022-02-13T23:29:33.792713",
     "exception": false,
     "start_time": "2022-02-13T23:29:33.734738",
     "status": "completed"
    },
    "tags": []
   },
   "outputs": [],
   "source": [
    "player = match[\"players\"][9]\n",
    "player[\"kills\"], player[\"deaths\"], player[\"assists\"]"
   ]
  },
  {
   "cell_type": "markdown",
   "metadata": {
    "papermill": {
     "duration": 0.047795,
     "end_time": "2022-02-13T23:29:33.888962",
     "exception": false,
     "start_time": "2022-02-13T23:29:33.841167",
     "status": "completed"
    },
    "tags": []
   },
   "source": [
    "KDA - может быть неплохим признаком, этот показатель считается как:\n",
    "    \n",
    "<center>$KDA = \\frac{K + A}{D}$"
   ]
  },
  {
   "cell_type": "markdown",
   "metadata": {
    "papermill": {
     "duration": 0.047726,
     "end_time": "2022-02-13T23:29:33.984909",
     "exception": false,
     "start_time": "2022-02-13T23:29:33.937183",
     "status": "completed"
    },
    "tags": []
   },
   "source": [
    "Информация о количестве использованных способностей:"
   ]
  },
  {
   "cell_type": "code",
   "execution_count": null,
   "metadata": {
    "execution": {
     "iopub.execute_input": "2022-04-03T15:18:37.447301Z",
     "iopub.status.busy": "2022-04-03T15:18:37.446999Z",
     "iopub.status.idle": "2022-04-03T15:18:37.454371Z",
     "shell.execute_reply": "2022-04-03T15:18:37.453462Z",
     "shell.execute_reply.started": "2022-04-03T15:18:37.447268Z"
    },
    "papermill": {
     "duration": 0.058567,
     "end_time": "2022-02-13T23:29:34.091868",
     "exception": false,
     "start_time": "2022-02-13T23:29:34.033301",
     "status": "completed"
    },
    "tags": []
   },
   "outputs": [],
   "source": [
    "player[\"ability_uses\"]"
   ]
  },
  {
   "cell_type": "code",
   "execution_count": null,
   "metadata": {
    "execution": {
     "iopub.execute_input": "2022-04-03T15:18:43.334318Z",
     "iopub.status.busy": "2022-04-03T15:18:43.334006Z",
     "iopub.status.idle": "2022-04-03T15:18:43.788752Z",
     "shell.execute_reply": "2022-04-03T15:18:43.787691Z",
     "shell.execute_reply.started": "2022-04-03T15:18:43.334283Z"
    },
    "papermill": {
     "duration": 0.497079,
     "end_time": "2022-02-13T23:29:34.637657",
     "exception": false,
     "start_time": "2022-02-13T23:29:34.140578",
     "status": "completed"
    },
    "tags": []
   },
   "outputs": [],
   "source": [
    "for i, player in enumerate(match[\"players\"]):\n",
    "    plt.plot(player[\"times\"], player[\"xp_t\"], label=str(i+1))\n",
    "\n",
    "plt.legend()\n",
    "plt.xlabel(\"Time, s\")\n",
    "plt.ylabel(\"XP\")\n",
    "plt.title(\"XP change for all players\");"
   ]
  },
  {
   "cell_type": "markdown",
   "metadata": {
    "papermill": {
     "duration": 0.052753,
     "end_time": "2022-02-13T23:29:34.742623",
     "exception": false,
     "start_time": "2022-02-13T23:29:34.68987",
     "status": "completed"
    },
    "tags": []
   },
   "source": [
    "#### Сделаем чтение файла с сырыми данными и добавление новых признаков удобным"
   ]
  },
  {
   "cell_type": "markdown",
   "metadata": {
    "papermill": {
     "duration": 0.051195,
     "end_time": "2022-02-13T23:29:34.845611",
     "exception": false,
     "start_time": "2022-02-13T23:29:34.794416",
     "status": "completed"
    },
    "tags": []
   },
   "source": [
    "В этот раз для чтение `json` файлов лучше использовать библиотеку `ujson`, иначе все будет слишком долго :("
   ]
  },
  {
   "cell_type": "markdown",
   "metadata": {},
   "source": [
    "<span style=\"color:purple\">Установим ujson:</span>"
   ]
  },
  {
   "cell_type": "code",
   "execution_count": null,
   "metadata": {},
   "outputs": [],
   "source": [
    "!pip install ujson"
   ]
  },
  {
   "cell_type": "code",
   "execution_count": null,
   "metadata": {
    "execution": {
     "iopub.execute_input": "2022-04-03T15:20:32.188121Z",
     "iopub.status.busy": "2022-04-03T15:20:32.187837Z",
     "iopub.status.idle": "2022-04-03T15:20:32.197048Z",
     "shell.execute_reply": "2022-04-03T15:20:32.196061Z",
     "shell.execute_reply.started": "2022-04-03T15:20:32.188088Z"
    },
    "papermill": {
     "duration": 0.069503,
     "end_time": "2022-02-13T23:29:34.966941",
     "exception": false,
     "start_time": "2022-02-13T23:29:34.897438",
     "status": "completed"
    },
    "tags": []
   },
   "outputs": [],
   "source": [
    "try:\n",
    "    import ujson as json\n",
    "except ModuleNotFoundError:\n",
    "    import json\n",
    "    print (\"Подумайте об установке ujson, чтобы работать с JSON объектами быстрее\")\n",
    "    \n",
    "try:\n",
    "    from tqdm.notebook import tqdm\n",
    "except ModuleNotFoundError:\n",
    "    tqdm_notebook = lambda x: x\n",
    "    print (\"Подумайте об установке tqdm, чтобы следить за прогрессом\")\n",
    "\n",
    "    \n",
    "def read_matches(matches_file, total_matches=31698, n_matches_to_read=None):\n",
    "    \"\"\"\n",
    "    Аргуент\n",
    "    -------\n",
    "    matches_file: JSON файл с сырыми данными\n",
    "    \n",
    "    Результат\n",
    "    ---------\n",
    "    Возвращает записи о каждом матче\n",
    "    \"\"\"\n",
    "    \n",
    "    if n_matches_to_read is None:\n",
    "        n_matches_to_read = total_matches\n",
    "        \n",
    "    c = 0\n",
    "    with open(matches_file) as fin:\n",
    "        for line in tqdm(fin, total=total_matches):\n",
    "            if c >= n_matches_to_read:\n",
    "                break\n",
    "            else:\n",
    "                c += 1\n",
    "                yield json.loads(line)"
   ]
  },
  {
   "cell_type": "markdown",
   "metadata": {
    "papermill": {
     "duration": 0.052275,
     "end_time": "2022-02-13T23:29:35.07086",
     "exception": false,
     "start_time": "2022-02-13T23:29:35.018585",
     "status": "completed"
    },
    "tags": []
   },
   "source": [
    "#### Чтение данных в цикле\n",
    "\n",
    "Чтение всех данных занимает 1-2 минуты, поэтому для начала можно попробовать следующее:\n",
    "\n",
    "1. Читать 10-50 игр\n",
    "2. Написать код для работы с этими JSON объектами\n",
    "3. Убедиться, что все работает\n",
    "4. Запустить код на всем датасете\n",
    "5. Сохранить результат в `pickle` файл, чтобы в следующий раз не переделывать все заново"
   ]
  },
  {
   "cell_type": "markdown",
   "metadata": {},
   "source": [
    "<span style=\"color:purple\">Сохраним вывод функции в pickle файл. Сделаем это для 1 матча, чтобы разобраться со структурой:</span>"
   ]
  },
  {
   "cell_type": "code",
   "execution_count": null,
   "metadata": {
    "execution": {
     "iopub.execute_input": "2022-04-03T15:20:42.483949Z",
     "iopub.status.busy": "2022-04-03T15:20:42.483598Z",
     "iopub.status.idle": "2022-04-03T15:20:42.533401Z",
     "shell.execute_reply": "2022-04-03T15:20:42.532354Z",
     "shell.execute_reply.started": "2022-04-03T15:20:42.483918Z"
    }
   },
   "outputs": [],
   "source": [
    "with open('data_1_match.pickle', 'wb') as f:\n",
    "    for i in read_matches(\"../input/new-dataset/train_raw_data.jsonl\", n_matches_to_read=1):\n",
    "        pickle.dump(i, f)"
   ]
  },
  {
   "cell_type": "markdown",
   "metadata": {},
   "source": [
    "<span style=\"color:purple\">Посмотрим на содержимое:</span>"
   ]
  },
  {
   "cell_type": "code",
   "execution_count": null,
   "metadata": {
    "execution": {
     "iopub.execute_input": "2022-04-03T15:20:59.323564Z",
     "iopub.status.busy": "2022-04-03T15:20:59.323262Z",
     "iopub.status.idle": "2022-04-03T15:20:59.45767Z",
     "shell.execute_reply": "2022-04-03T15:20:59.456437Z",
     "shell.execute_reply.started": "2022-04-03T15:20:59.323532Z"
    }
   },
   "outputs": [],
   "source": [
    "obj = pd.read_pickle(\"data_1_match.pickle\")\n",
    "obj"
   ]
  },
  {
   "cell_type": "markdown",
   "metadata": {},
   "source": [
    "<span style=\"color:purple\">Сохраним вывод функции в pickle файл (для всех матчей):</span>"
   ]
  },
  {
   "cell_type": "code",
   "execution_count": null,
   "metadata": {
    "execution": {
     "iopub.execute_input": "2022-04-03T15:21:16.4151Z",
     "iopub.status.busy": "2022-04-03T15:21:16.414198Z",
     "iopub.status.idle": "2022-04-03T15:23:08.273656Z",
     "shell.execute_reply": "2022-04-03T15:23:08.272665Z",
     "shell.execute_reply.started": "2022-04-03T15:21:16.415043Z"
    }
   },
   "outputs": [],
   "source": [
    "with open('data.pickle', 'wb') as f:\n",
    "    for i in read_matches(\"../input/new-dataset/train_raw_data.jsonl\"):\n",
    "        pickle.dump(i, f)"
   ]
  },
  {
   "cell_type": "markdown",
   "metadata": {},
   "source": [
    "<span style=\"color:purple\">И вроде бы, я всё сделала, как надо, но дальше не поняла, как дальше использовать pickle файл. Думала, что его нужно подавать его в input для функции, которая добавляет новые признаки (хотя в комментариях написано, что функция ждет json)</span>"
   ]
  },
  {
   "cell_type": "markdown",
   "metadata": {
    "papermill": {
     "duration": 0.051565,
     "end_time": "2022-02-13T23:29:35.175139",
     "exception": false,
     "start_time": "2022-02-13T23:29:35.123574",
     "status": "completed"
    },
    "tags": []
   },
   "source": [
    "## <left>Feature engineering"
   ]
  },
  {
   "cell_type": "markdown",
   "metadata": {
    "papermill": {
     "duration": 0.051315,
     "end_time": "2022-02-13T23:29:35.278664",
     "exception": false,
     "start_time": "2022-02-13T23:29:35.227349",
     "status": "completed"
    },
    "tags": []
   },
   "source": [
    "Напишем функцию, которая поможет нам легче добавлять новые признаки."
   ]
  },
  {
   "cell_type": "markdown",
   "metadata": {},
   "source": [
    "<span style=\"color:purple\">Возможно, я не разобралась, но я не обращалась к слоту игрока, чтобы узнать, из какой он команды. Я просто проверила, что в каждом матче я могу обратиться к 10 игрокам, и если их вызывать по порядку, то и слоты их будут 0-1 и 128-132. И так повторяется в каждом матче. Т.е. первый по порядку всегда из radiant. Забавно будет (на самом деле, нет), если у меня тут ошибка.</span>\n",
    "\n",
    "<span style=\"color:purple\">И я также пробовала добавлять признаки не по командам, а по каждому игроку: иногда результат не отличался, иногда был хуже. Поэтому решила оставить для каждой из команд.</span>"
   ]
  },
  {
   "cell_type": "code",
   "execution_count": null,
   "metadata": {
    "execution": {
     "iopub.execute_input": "2022-04-03T17:13:06.755895Z",
     "iopub.status.busy": "2022-04-03T17:13:06.755538Z",
     "iopub.status.idle": "2022-04-03T17:13:06.786476Z",
     "shell.execute_reply": "2022-04-03T17:13:06.785329Z",
     "shell.execute_reply.started": "2022-04-03T17:13:06.755855Z"
    },
    "papermill": {
     "duration": 0.063047,
     "end_time": "2022-02-13T23:29:35.393977",
     "exception": false,
     "start_time": "2022-02-13T23:29:35.33093",
     "status": "completed"
    },
    "tags": []
   },
   "outputs": [],
   "source": [
    "def add_new_features(df_features, matches_file):\n",
    "    \"\"\"\n",
    "    Аргументы\n",
    "    -------\n",
    "    df_features: таблица с данными\n",
    "    matches_file: JSON файл с сырыми данными\n",
    "    \n",
    "    Результат\n",
    "    ---------\n",
    "    Добавляет новые признаки в таблицу\n",
    "    \"\"\"\n",
    "    \n",
    "    for match in read_matches(matches_file):\n",
    "        match_id_hash = match['match_id_hash']\n",
    "\n",
    "        # Посчитаем количество разрушенных вышек обеими командами:\n",
    "        radiant_tower_kills = 0\n",
    "        dire_tower_kills = 0\n",
    "        for objective in match[\"objectives\"]:\n",
    "            if objective[\"type\"] == \"CHAT_MESSAGE_TOWER_KILL\":\n",
    "                if objective[\"team\"] == 2:\n",
    "                    radiant_tower_kills += 1\n",
    "                if objective[\"team\"] == 3:\n",
    "                    dire_tower_kills += 1\n",
    "\n",
    "        df_features.loc[match_id_hash, \"radiant_tower_kills\"] = radiant_tower_kills\n",
    "        df_features.loc[match_id_hash, \"dire_tower_kills\"] = dire_tower_kills\n",
    "        df_features.loc[match_id_hash, \"diff_tower_kills\"] = radiant_tower_kills - dire_tower_kills\n",
    "        \n",
    "        # Посчитаем показатель KDA для каждой из команд. Рассчитаем как (K+A)/(D+1):        \n",
    "        KDA_list = []\n",
    "        KDA_r = 0\n",
    "        KDA_d = 0\n",
    "        for player in match[\"players\"]:\n",
    "            KDA_list.append((player[\"kills\"] + player[\"assists\"])/(player[\"deaths\"] + 1))        \n",
    "        \n",
    "        df_features.loc[match_id_hash, \"r_KDA\"] = sum(KDA_list[0:5])\n",
    "        df_features.loc[match_id_hash, \"d_KDA\"] = sum(KDA_list[5:10])\n",
    "   \n",
    "        # Посчитаем число использованных способностей обеими командами:\n",
    "        r_ability_uses = 0        \n",
    "        d_ability_uses = 0\n",
    "        ability = []\n",
    "        for player in match[\"players\"]:\n",
    "            player_abilities = 0\n",
    "            for el in player[\"ability_uses\"].values():\n",
    "                player_abilities += el\n",
    "            ability.append(player_abilities)\n",
    "\n",
    "        df_features.loc[match_id_hash, \"r_ability_uses\"] = sum(ability[0:5])\n",
    "        df_features.loc[match_id_hash, \"d_ability_uses\"] = sum(ability[5:10])\n",
    "        \n",
    "        # Посчитаем число использованных способностей обеими командами:\n",
    "        r_item_uses = 0        \n",
    "        d_item_uses = 0\n",
    "        item_uses = []\n",
    "        for player in match[\"players\"]:\n",
    "            player_item_uses = 0\n",
    "            for el in player[\"item_uses\"].values():\n",
    "                player_item_uses += el\n",
    "            item_uses.append(player_item_uses)\n",
    "\n",
    "        df_features.loc[match_id_hash, \"r_item_uses\"] = sum(item_uses[0:5])\n",
    "        df_features.loc[match_id_hash, \"d_item_uses\"] = sum(item_uses[5:10])\n",
    "            \n",
    "        # Посчитаем количество единиц урона, нанесенного каждой из команд\n",
    "        r_damage = 0        \n",
    "        d_damage = 0\n",
    "        damage = []\n",
    "        for player in match[\"players\"]:\n",
    "            player_damage = 0\n",
    "            for el in player[\"damage\"].values():\n",
    "                player_damage += el\n",
    "            damage.append(player_damage)\n",
    "\n",
    "        df_features.loc[match_id_hash, \"r_damage\"] = sum(damage[0:5])\n",
    "        df_features.loc[match_id_hash, \"d_damage\"] = sum(damage[5:10])\n",
    "        \n",
    "        # Посчитаем \"исцеления\"  \n",
    "        r_healing = 0        \n",
    "        d_healing = 0\n",
    "        healing = []\n",
    "        for player in match[\"players\"]:\n",
    "            player_healing = 0\n",
    "            for el in player[\"healing\"].values():\n",
    "                player_healing += el\n",
    "            healing.append(player_healing)\n",
    "\n",
    "        df_features.loc[match_id_hash, \"r_healing\"] = sum(healing[0:5])\n",
    "        df_features.loc[match_id_hash, \"d_healing\"] = sum(healing[5:10])\n",
    "        \n",
    "        # Посчитаем покупки для каждой из команд:\n",
    "        r_purchase = 0        \n",
    "        d_purchase = 0\n",
    "        purchase = []\n",
    "        for player in match[\"players\"]:\n",
    "            player_purchase = 0\n",
    "            for el in player[\"purchase\"].values():\n",
    "                player_purchase += el\n",
    "            purchase.append(player_purchase)\n",
    "\n",
    "        df_features.loc[match_id_hash, \"r_purchase\"] = sum(purchase[0:5])\n",
    "        df_features.loc[match_id_hash, \"d_purchase\"] = sum(purchase[5:10])\n",
    "    \n",
    "\n",
    "        # Посчитаем количество улучшенных способностей для каждой из команд:\n",
    "        r_abilities_upg = 0        \n",
    "        d_abilities_upg = 0\n",
    "        ability_upgrades = []\n",
    "        for player in match[\"players\"]:\n",
    "            ability_upgrades.append(len(player[\"ability_upgrades\"]))\n",
    "\n",
    "        df_features.loc[match_id_hash, \"r_ability_upgrades\"] = sum(ability_upgrades[0:5])\n",
    "        df_features.loc[match_id_hash, \"d_ability_upgrades\"] = sum(ability_upgrades[5:10])\n",
    "        \n",
    "        # Посчитаем количество улучшенных способностей для каждой из команд:\n",
    "        r_nearby_creep_death_count = 0        \n",
    "        d_nearby_creep_death_count = 0\n",
    "        nearby_creep_death_count = []\n",
    "        for player in match[\"players\"]:\n",
    "            nearby_creep_death_count.append(player[\"nearby_creep_death_count\"])\n",
    "\n",
    "        df_features.loc[match_id_hash, \"r_nearby_creep_death_count\"] = sum(nearby_creep_death_count[0:5])\n",
    "        df_features.loc[match_id_hash, \"d_nearby_creep_death_count\"] = sum(nearby_creep_death_count[5:10])\n",
    "        \n",
    "        # Посчитаем количество рун каждой из команд:        \n",
    "        player[\"runes\"]\n",
    "        r_runes = 0        \n",
    "        d_runes= 0\n",
    "        runes = []\n",
    "        for player in match[\"players\"]:\n",
    "            player_runes = 0\n",
    "            for el in player[\"runes\"].values():\n",
    "                player_runes += el\n",
    "            runes.append(player_runes)\n",
    "\n",
    "        df_features.loc[match_id_hash, \"r_runes\"] = sum(runes[0:5])\n",
    "        df_features.loc[match_id_hash, \"d_runes\"] = sum(runes[5:10])\n",
    "        \n",
    "        \n",
    "        # ... (/¯◡ ‿ ◡)/¯☆*:・ﾟ добавляем новые признаки ..."
   ]
  },
  {
   "cell_type": "code",
   "execution_count": null,
   "metadata": {
    "execution": {
     "iopub.execute_input": "2022-04-03T17:13:17.088611Z",
     "iopub.status.busy": "2022-04-03T17:13:17.087888Z",
     "iopub.status.idle": "2022-04-03T17:18:21.091074Z",
     "shell.execute_reply": "2022-04-03T17:18:21.090166Z",
     "shell.execute_reply.started": "2022-04-03T17:13:17.088573Z"
    },
    "papermill": {
     "duration": 100.250385,
     "end_time": "2022-02-13T23:31:15.696073",
     "exception": false,
     "start_time": "2022-02-13T23:29:35.445688",
     "status": "completed"
    },
    "tags": []
   },
   "outputs": [],
   "source": [
    "# Скопируем таблицу с признаками\n",
    "df_train_features_extended = df_train_features.copy()\n",
    "\n",
    "# Добавим новые\n",
    "add_new_features(df_train_features_extended, \"../input/new-dataset/train_raw_data.jsonl\")"
   ]
  },
  {
   "cell_type": "code",
   "execution_count": null,
   "metadata": {
    "execution": {
     "iopub.execute_input": "2022-04-03T17:18:37.363018Z",
     "iopub.status.busy": "2022-04-03T17:18:37.362689Z",
     "iopub.status.idle": "2022-04-03T17:18:37.396376Z",
     "shell.execute_reply": "2022-04-03T17:18:37.395491Z",
     "shell.execute_reply.started": "2022-04-03T17:18:37.362982Z"
    },
    "papermill": {
     "duration": 0.08167,
     "end_time": "2022-02-13T23:31:15.83029",
     "exception": false,
     "start_time": "2022-02-13T23:31:15.74862",
     "status": "completed"
    },
    "tags": []
   },
   "outputs": [],
   "source": [
    "df_train_features_extended.head()"
   ]
  },
  {
   "cell_type": "code",
   "execution_count": null,
   "metadata": {
    "execution": {
     "iopub.execute_input": "2022-04-03T16:38:24.078674Z",
     "iopub.status.busy": "2022-04-03T16:38:24.078355Z",
     "iopub.status.idle": "2022-04-03T16:39:11.568028Z",
     "shell.execute_reply": "2022-04-03T16:39:11.566739Z",
     "shell.execute_reply.started": "2022-04-03T16:38:24.078626Z"
    },
    "papermill": {
     "duration": 99.37327,
     "end_time": "2022-02-13T23:32:55.256572",
     "exception": false,
     "start_time": "2022-02-13T23:31:15.883302",
     "status": "completed"
    },
    "tags": []
   },
   "outputs": [],
   "source": [
    "%%time\n",
    "rf_model = RandomForestClassifier(n_estimators=300, max_depth=7, n_jobs=-1, random_state=SEED)\n",
    "cv_scores_base = cross_val_score(rf_model, X, y, cv=cv, scoring=\"roc_auc\", n_jobs=-1)\n",
    "print(f\"ROC-AUC на кросс-валидации для базовых признаков: {cv_scores_base.mean()}\")"
   ]
  },
  {
   "cell_type": "code",
   "execution_count": null,
   "metadata": {
    "execution": {
     "iopub.execute_input": "2022-04-03T16:41:31.770899Z",
     "iopub.status.busy": "2022-04-03T16:41:31.770515Z",
     "iopub.status.idle": "2022-04-03T16:42:30.272809Z",
     "shell.execute_reply": "2022-04-03T16:42:30.271782Z",
     "shell.execute_reply.started": "2022-04-03T16:41:31.770859Z"
    }
   },
   "outputs": [],
   "source": [
    "%%time\n",
    "rf_model = RandomForestClassifier(n_estimators=300, max_depth=7, n_jobs=-1, random_state=SEED)\n",
    "cv_scores_extended_base_ft = cross_val_score(rf_model, df_train_features_extended.values, y, cv=cv, scoring=\"roc_auc\", n_jobs=-1)\n",
    "print(f\"ROC-AUC на кросс-валидации для новых признаков: {cv_scores_extended_base_ft.mean()}\")"
   ]
  },
  {
   "cell_type": "code",
   "execution_count": null,
   "metadata": {
    "execution": {
     "iopub.execute_input": "2022-04-03T16:59:48.74958Z",
     "iopub.status.busy": "2022-04-03T16:59:48.749164Z",
     "iopub.status.idle": "2022-04-03T17:00:42.53209Z",
     "shell.execute_reply": "2022-04-03T17:00:42.531171Z",
     "shell.execute_reply.started": "2022-04-03T16:59:48.749536Z"
    }
   },
   "outputs": [],
   "source": [
    "%%time\n",
    "cat = catboost.CatBoostRegressor(iterations=200, learning_rate=0.1, depth=6, random_state=SEED, min_data_in_leaf=7, verbose=0)\n",
    "cv_scores_extended_cat = cross_val_score(cat, df_train_features_extended.values, y, cv=cv, scoring=\"roc_auc\", n_jobs=-1)\n",
    "print(f\"ROC-AUC на кросс-валидации для новых признаков (catboost): {cv_scores_extended_cat.mean()}\")"
   ]
  },
  {
   "cell_type": "code",
   "execution_count": null,
   "metadata": {
    "execution": {
     "iopub.execute_input": "2022-04-03T17:56:56.082437Z",
     "iopub.status.busy": "2022-04-03T17:56:56.082077Z",
     "iopub.status.idle": "2022-04-03T17:56:56.248774Z",
     "shell.execute_reply": "2022-04-03T17:56:56.247992Z",
     "shell.execute_reply.started": "2022-04-03T17:56:56.082403Z"
    }
   },
   "outputs": [],
   "source": [
    "X_sl = df_train_features_extended.values\n",
    "y_sl = df_train_targets[\"radiant_win\"].values.astype(\"int8\")\n",
    "X_sl_train, X_sl_valid, y_sl_train, y_sl_valid = train_test_split(X_sl, y_sl, test_size=0.3, random_state=SEED)"
   ]
  },
  {
   "cell_type": "code",
   "execution_count": null,
   "metadata": {
    "execution": {
     "iopub.execute_input": "2022-04-03T17:57:01.018228Z",
     "iopub.status.busy": "2022-04-03T17:57:01.017948Z",
     "iopub.status.idle": "2022-04-03T18:21:07.284292Z",
     "shell.execute_reply": "2022-04-03T18:21:07.27954Z",
     "shell.execute_reply.started": "2022-04-03T17:57:01.0182Z"
    }
   },
   "outputs": [],
   "source": [
    "ens_model = Ridge(0.001)\n",
    "s3 = DjStacking(models, ens_model)\n",
    "a = 0\n",
    "for t in range(10):\n",
    "    s3.fit(X_sl_train, y_sl_train, p=0.3)\n",
    "    a += s3.predict(X_sl_valid)\n",
    "    \n",
    "    auc = roc_auc_score(y_sl_valid, a)\n",
    "    print(auc)"
   ]
  },
  {
   "cell_type": "code",
   "execution_count": null,
   "metadata": {
    "execution": {
     "iopub.execute_input": "2022-04-03T15:58:08.066575Z",
     "iopub.status.busy": "2022-04-03T15:58:08.065571Z",
     "iopub.status.idle": "2022-04-03T15:58:08.075779Z",
     "shell.execute_reply": "2022-04-03T15:58:08.075145Z",
     "shell.execute_reply.started": "2022-04-03T15:58:08.066517Z"
    }
   },
   "outputs": [],
   "source": [
    "s3_valid_score = roc_auc_score(y_valid, a)\n",
    "print(\"ROC-AUC score на отложенной части (блендинг):\", s3_valid_score)"
   ]
  },
  {
   "cell_type": "code",
   "execution_count": null,
   "metadata": {
    "execution": {
     "iopub.execute_input": "2022-04-03T15:58:16.157485Z",
     "iopub.status.busy": "2022-04-03T15:58:16.156698Z",
     "iopub.status.idle": "2022-04-03T16:13:38.917649Z",
     "shell.execute_reply": "2022-04-03T16:13:38.916491Z",
     "shell.execute_reply.started": "2022-04-03T15:58:16.157443Z"
    }
   },
   "outputs": [],
   "source": [
    "ens_model = Ridge()\n",
    "s4 = DjStacking(models, ens_model)\n",
    "s4.fit(X_sl_train, y_sl_train, p=-1)\n",
    "a = s4.predict(X_sl_valid)\n",
    "s4_valid_score = roc_auc_score(y_sl_valid, a)"
   ]
  },
  {
   "cell_type": "code",
   "execution_count": null,
   "metadata": {
    "execution": {
     "iopub.execute_input": "2022-04-03T16:17:11.15067Z",
     "iopub.status.busy": "2022-04-03T16:17:11.150156Z",
     "iopub.status.idle": "2022-04-03T16:17:11.156983Z",
     "shell.execute_reply": "2022-04-03T16:17:11.156047Z",
     "shell.execute_reply.started": "2022-04-03T16:17:11.150608Z"
    }
   },
   "outputs": [],
   "source": [
    "print(\"ROC-AUC score на отложенной части (стекинг):\", s4_valid_score)"
   ]
  },
  {
   "cell_type": "code",
   "execution_count": null,
   "metadata": {
    "execution": {
     "iopub.execute_input": "2022-04-03T16:17:36.305882Z",
     "iopub.status.busy": "2022-04-03T16:17:36.305054Z",
     "iopub.status.idle": "2022-04-03T16:17:36.313376Z",
     "shell.execute_reply": "2022-04-03T16:17:36.312781Z",
     "shell.execute_reply.started": "2022-04-03T16:17:36.305834Z"
    },
    "papermill": {
     "duration": 0.062721,
     "end_time": "2022-02-13T23:32:55.372536",
     "exception": false,
     "start_time": "2022-02-13T23:32:55.309815",
     "status": "completed"
    },
    "tags": []
   },
   "outputs": [],
   "source": [
    "print(f\"ROC-AUC на кросс-валидации для базовых признаков: {cv_scores_base.mean()}\")\n",
    "print(f\"ROC-AUC на кросс-валидации для новых признаков: {cv_scores_extended_base_ft.mean()}\")\n",
    "print(f\"ROC-AUC на кросс-валидации для новых признаков (catboost): {cv_scores_extended_cat.mean()}\")\n",
    "print(f\"ROC-AUC на кросс-валидации для новых признаков (блендинг): {s3_valid_score}\")\n",
    "print(f\"ROC-AUC на кросс-валидации для новых признаков (стекинг): {s4_valid_score}\")"
   ]
  },
  {
   "cell_type": "markdown",
   "metadata": {},
   "source": [
    "<span style=\"color:purple\">Я ожидала, что раз уж при добавлении новых признаков в таблицу ROC-AUC для базовой модели возрастает (с 0,772 до 0,788), то этого же можно ожидать и для catboost, и для стекинга. Однако результаты на новых данных даже хуже, чем на старых. Пришлось сделать сабмит предсказаний по исходной таблице</span>"
   ]
  },
  {
   "cell_type": "markdown",
   "metadata": {},
   "source": [
    "## <left>Посылка"
   ]
  },
  {
   "cell_type": "code",
   "execution_count": null,
   "metadata": {
    "execution": {
     "iopub.execute_input": "2022-04-03T18:23:25.37881Z",
     "iopub.status.busy": "2022-04-03T18:23:25.378477Z",
     "iopub.status.idle": "2022-04-03T18:23:25.643772Z",
     "shell.execute_reply": "2022-04-03T18:23:25.642403Z",
     "shell.execute_reply.started": "2022-04-03T18:23:25.378764Z"
    }
   },
   "outputs": [],
   "source": [
    "df_test_features = pd.read_csv(\"../input/new-dataset/test_data.csv\", \n",
    "                                   index_col=\"match_id_hash\")\n",
    "\n",
    "X_test = df_test_features.values\n",
    "y_test_pred = s1.predict(X_test)\n",
    "\n",
    "df_submission = pd.DataFrame({\"radiant_win_prob\": y_test_pred}, \n",
    "                                 index=df_test_features.index)"
   ]
  },
  {
   "cell_type": "code",
   "execution_count": null,
   "metadata": {
    "execution": {
     "iopub.execute_input": "2022-04-03T17:51:08.096855Z",
     "iopub.status.busy": "2022-04-03T17:51:08.096546Z",
     "iopub.status.idle": "2022-04-03T17:51:08.136878Z",
     "shell.execute_reply": "2022-04-03T17:51:08.135946Z",
     "shell.execute_reply.started": "2022-04-03T17:51:08.096826Z"
    }
   },
   "outputs": [],
   "source": [
    "submission_filename = \"submission_{}.csv\".format(\n",
    "    datetime.datetime.now().strftime(\"%Y-%m-%d_%H-%M-%S\"))\n",
    "df_submission.to_csv(submission_filename)\n",
    "print(\"Файл посылки сохранен, как: {}\".format(submission_filename))"
   ]
  },
  {
   "cell_type": "markdown",
   "metadata": {},
   "source": [
    "## <span style=\"color:purple\">Therapy time</span>"
   ]
  },
  {
   "cell_type": "markdown",
   "metadata": {},
   "source": [
    "<span style=\"color:purple\">Спасибо, было интересно, хоть я и расстроилась немного, что добавленные в таблице новые данные улучшили мне ROC-AUC базового леса, но все равно ранее посчитанный ROC-AUC для нескольких блендингов оказался лучше. Кажется, что прошлась по верхам, хотя можно было бы и искать другие параметры, копнув чуть глубже. В любом случае, это первый опят соревнований на Kaggle, вроде даже за score baseline перевалила :)</span>"
   ]
  },
  {
   "cell_type": "markdown",
   "metadata": {},
   "source": [
    "<img src =\"https://funart.pro/uploads/posts/2021-07/1627199139_45-funart-pro-p-ustavshii-kotik-zhivotnie-krasivo-foto-63.jpg\" width=\"504\" length=\"504\">"
   ]
  }
 ],
 "metadata": {
  "kernelspec": {
   "display_name": "Python 3 (ipykernel)",
   "language": "python",
   "name": "python3"
  },
  "language_info": {
   "codemirror_mode": {
    "name": "ipython",
    "version": 3
   },
   "file_extension": ".py",
   "mimetype": "text/x-python",
   "name": "python",
   "nbconvert_exporter": "python",
   "pygments_lexer": "ipython3",
   "version": "3.9.5"
  }
 },
 "nbformat": 4,
 "nbformat_minor": 4
}
